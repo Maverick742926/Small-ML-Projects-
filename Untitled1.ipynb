{
 "cells": [
  {
   "cell_type": "code",
   "execution_count": 2,
   "id": "86e33e37",
   "metadata": {},
   "outputs": [],
   "source": [
    "import os"
   ]
  },
  {
   "cell_type": "code",
   "execution_count": 4,
   "id": "fe894768",
   "metadata": {},
   "outputs": [],
   "source": [
    "labels=['Edema']"
   ]
  },
  {
   "cell_type": "code",
   "execution_count": 7,
   "id": "c14a98eb",
   "metadata": {},
   "outputs": [],
   "source": [
    "labeling_path = os.path.join('Edema','labelImg')"
   ]
  },
  {
   "cell_type": "code",
   "execution_count": 8,
   "id": "8932902a",
   "metadata": {},
   "outputs": [
    {
     "name": "stderr",
     "output_type": "stream",
     "text": [
      "'git' is not recognized as an internal or external command,\n",
      "operable program or batch file.\n"
     ]
    }
   ],
   "source": [
    "if not os.path.exists(labeling_path):\n",
    "    !mkdir {llabeling_path}\n",
    "    !git clone https:://github.com/tzutalin/labelImg"
   ]
  }
 ],
 "metadata": {
  "kernelspec": {
   "display_name": "Python 3 (ipykernel)",
   "language": "python",
   "name": "python3"
  },
  "language_info": {
   "codemirror_mode": {
    "name": "ipython",
    "version": 3
   },
   "file_extension": ".py",
   "mimetype": "text/x-python",
   "name": "python",
   "nbconvert_exporter": "python",
   "pygments_lexer": "ipython3",
   "version": "3.9.13"
  }
 },
 "nbformat": 4,
 "nbformat_minor": 5
}
