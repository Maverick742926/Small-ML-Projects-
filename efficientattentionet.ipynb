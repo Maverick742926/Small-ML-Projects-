{
 "cells": [
  {
   "cell_type": "code",
   "execution_count": 1,
   "id": "a45d22bd",
   "metadata": {
    "execution": {
     "iopub.execute_input": "2023-03-20T17:37:21.907171Z",
     "iopub.status.busy": "2023-03-20T17:37:21.906603Z",
     "iopub.status.idle": "2023-03-20T17:37:28.394623Z",
     "shell.execute_reply": "2023-03-20T17:37:28.393603Z"
    },
    "papermill": {
     "duration": 6.505803,
     "end_time": "2023-03-20T17:37:28.397315",
     "exception": false,
     "start_time": "2023-03-20T17:37:21.891512",
     "status": "completed"
    },
    "tags": []
   },
   "outputs": [],
   "source": [
    "import glob\n",
    "#import cv2\n",
    "import itertools\n",
    "import numpy as np\n",
    "import tensorflow as tf\n",
    "from tensorflow import keras\n",
    "from tensorflow.keras import layers\n",
    "from keras.layers import *\n",
    "from tensorflow.keras.applications.imagenet_utils import decode_predictions\n",
    "from tensorflow.keras.applications.imagenet_utils import preprocess_input\n",
    "\n",
    "import numpy as np \n",
    "import pandas as pd \n",
    "import matplotlib.pyplot as plt\n",
    "import os\n",
    "from tensorflow.keras.preprocessing.image import ImageDataGenerator\n",
    "#import cv2\n",
    "from matplotlib.pyplot import imread\n",
    "from matplotlib.pyplot import imshow\n",
    "from tensorflow.keras.preprocessing import image\n",
    "from tensorflow.keras import layers\n",
    "from tensorflow.keras.applications import EfficientNetB7\n",
    "import tensorflow as tf\n",
    "import pandas as pd \n",
    "import matplotlib.pyplot as plt\n",
    "import os\n",
    "\n",
    "\n",
    "NUM_CLASSES = 2\n",
    "IMG_SIZE = 224\n"
   ]
  },
  {
   "cell_type": "code",
   "execution_count": 2,
   "id": "bb0eb932",
   "metadata": {},
   "outputs": [
    {
     "data": {
      "text/plain": [
       "'C:\\\\Users\\\\shaya\\\\assignment 1 PDC'"
      ]
     },
     "execution_count": 2,
     "metadata": {},
     "output_type": "execute_result"
    }
   ],
   "source": [
    "\n",
    "pwd"
   ]
  },
  {
   "cell_type": "markdown",
   "id": "bb89e0fc",
   "metadata": {
    "papermill": {
     "duration": 0.011467,
     "end_time": "2023-03-20T17:37:28.421138",
     "exception": false,
     "start_time": "2023-03-20T17:37:28.409671",
     "status": "completed"
    },
    "tags": []
   },
   "source": [
    "# ***DATA LOADING AND PRE-PROCESSING***"
   ]
  },
  {
   "cell_type": "code",
   "execution_count": 13,
   "id": "863cdbd0",
   "metadata": {
    "execution": {
     "iopub.execute_input": "2023-03-20T17:37:28.446365Z",
     "iopub.status.busy": "2023-03-20T17:37:28.445695Z",
     "iopub.status.idle": "2023-03-20T17:37:28.902300Z",
     "shell.execute_reply": "2023-03-20T17:37:28.901284Z"
    },
    "papermill": {
     "duration": 0.47182,
     "end_time": "2023-03-20T17:37:28.904680",
     "exception": false,
     "start_time": "2023-03-20T17:37:28.432860",
     "status": "completed"
    },
    "tags": []
   },
   "outputs": [
    {
     "ename": "NotADirectoryError",
     "evalue": "[WinError 267] The directory name is invalid: 'Forest Fire Dataset\\\\efficientattentionet.ipynb'",
     "output_type": "error",
     "traceback": [
      "\u001b[1;31m---------------------------------------------------------------------------\u001b[0m",
      "\u001b[1;31mNotADirectoryError\u001b[0m                        Traceback (most recent call last)",
      "\u001b[1;32m~\\AppData\\Local\\Temp\\ipykernel_10772\\939123130.py\u001b[0m in \u001b[0;36m<module>\u001b[1;34m\u001b[0m\n\u001b[0;32m      3\u001b[0m \u001b[0mlabels\u001b[0m \u001b[1;33m=\u001b[0m\u001b[1;33m[\u001b[0m\u001b[1;33m]\u001b[0m\u001b[1;33m\u001b[0m\u001b[1;33m\u001b[0m\u001b[0m\n\u001b[0;32m      4\u001b[0m \u001b[1;32mfor\u001b[0m \u001b[0msub_dir\u001b[0m \u001b[1;32min\u001b[0m \u001b[0mos\u001b[0m\u001b[1;33m.\u001b[0m\u001b[0mlistdir\u001b[0m\u001b[1;33m(\u001b[0m\u001b[1;34m'Forest Fire Dataset'\u001b[0m\u001b[1;33m)\u001b[0m\u001b[1;33m:\u001b[0m\u001b[1;33m\u001b[0m\u001b[1;33m\u001b[0m\u001b[0m\n\u001b[1;32m----> 5\u001b[1;33m   \u001b[0mimage_list\u001b[0m\u001b[1;33m=\u001b[0m\u001b[0mos\u001b[0m\u001b[1;33m.\u001b[0m\u001b[0mlistdir\u001b[0m\u001b[1;33m(\u001b[0m\u001b[0mos\u001b[0m\u001b[1;33m.\u001b[0m\u001b[0mpath\u001b[0m\u001b[1;33m.\u001b[0m\u001b[0mjoin\u001b[0m\u001b[1;33m(\u001b[0m\u001b[1;34m'Forest Fire Dataset'\u001b[0m\u001b[1;33m,\u001b[0m\u001b[0msub_dir\u001b[0m\u001b[1;33m)\u001b[0m\u001b[1;33m)\u001b[0m  \u001b[1;31m#list of all image names in the directory\u001b[0m\u001b[1;33m\u001b[0m\u001b[1;33m\u001b[0m\u001b[0m\n\u001b[0m\u001b[0;32m      6\u001b[0m   \u001b[0mimage_list\u001b[0m \u001b[1;33m=\u001b[0m \u001b[0mlist\u001b[0m\u001b[1;33m(\u001b[0m\u001b[0mmap\u001b[0m\u001b[1;33m(\u001b[0m\u001b[1;32mlambda\u001b[0m \u001b[0mx\u001b[0m\u001b[1;33m:\u001b[0m\u001b[0mos\u001b[0m\u001b[1;33m.\u001b[0m\u001b[0mpath\u001b[0m\u001b[1;33m.\u001b[0m\u001b[0mjoin\u001b[0m\u001b[1;33m(\u001b[0m\u001b[0msub_dir\u001b[0m\u001b[1;33m,\u001b[0m\u001b[0mx\u001b[0m\u001b[1;33m)\u001b[0m\u001b[1;33m,\u001b[0m\u001b[0mimage_list\u001b[0m\u001b[1;33m)\u001b[0m\u001b[1;33m)\u001b[0m\u001b[1;33m\u001b[0m\u001b[1;33m\u001b[0m\u001b[0m\n\u001b[0;32m      7\u001b[0m   \u001b[0mimages\u001b[0m\u001b[1;33m.\u001b[0m\u001b[0mextend\u001b[0m\u001b[1;33m(\u001b[0m\u001b[0mimage_list\u001b[0m\u001b[1;33m)\u001b[0m\u001b[1;33m\u001b[0m\u001b[1;33m\u001b[0m\u001b[0m\n",
      "\u001b[1;31mNotADirectoryError\u001b[0m: [WinError 267] The directory name is invalid: 'Forest Fire Dataset\\\\efficientattentionet.ipynb'"
     ]
    }
   ],
   "source": [
    "import os\n",
    "images = []\n",
    "labels =[]\n",
    "for sub_dir in os.listdir('Training'):\n",
    "  image_list=os.listdir(os.path.join('Training',sub_dir))  #list of all image names in the directory\n",
    "  image_list = list(map(lambda x:os.path.join(sub_dir,x),image_list))\n",
    "  images.extend(image_list)\n",
    "  labels.extend([sub_dir]*len(image_list)) "
   ]
  },
  {
   "cell_type": "code",
   "execution_count": null,
   "id": "37979c84",
   "metadata": {
    "execution": {
     "iopub.execute_input": "2023-03-20T17:37:28.930201Z",
     "iopub.status.busy": "2023-03-20T17:37:28.929561Z",
     "iopub.status.idle": "2023-03-20T17:37:28.951361Z",
     "shell.execute_reply": "2023-03-20T17:37:28.950419Z"
    },
    "papermill": {
     "duration": 0.036673,
     "end_time": "2023-03-20T17:37:28.953576",
     "exception": false,
     "start_time": "2023-03-20T17:37:28.916903",
     "status": "completed"
    },
    "tags": []
   },
   "outputs": [],
   "source": [
    "df = pd.DataFrame({\"Images\":images,\"Labels\":labels})      \n",
    "df = df.sample(frac=1).reset_index(drop=True) # To shuffle the data \n",
    "df_train = df.head(10000)\n",
    "df_test = df.tail(3000)"
   ]
  },
  {
   "cell_type": "code",
   "execution_count": null,
   "id": "7f8d15b9",
   "metadata": {
    "execution": {
     "iopub.execute_input": "2023-03-20T17:37:28.980180Z",
     "iopub.status.busy": "2023-03-20T17:37:28.979831Z",
     "iopub.status.idle": "2023-03-20T17:37:28.996673Z",
     "shell.execute_reply": "2023-03-20T17:37:28.995798Z"
    },
    "papermill": {
     "duration": 0.03216,
     "end_time": "2023-03-20T17:37:28.998721",
     "exception": false,
     "start_time": "2023-03-20T17:37:28.966561",
     "status": "completed"
    },
    "tags": []
   },
   "outputs": [],
   "source": [
    "train_data = df_train.groupby('Labels').count()\n",
    "test_data = df_test.groupby('Labels').count()"
   ]
  },
  {
   "cell_type": "code",
   "execution_count": null,
   "id": "0e650b7c",
   "metadata": {
    "execution": {
     "iopub.execute_input": "2023-03-20T17:37:29.023497Z",
     "iopub.status.busy": "2023-03-20T17:37:29.023167Z",
     "iopub.status.idle": "2023-03-20T17:37:29.035866Z",
     "shell.execute_reply": "2023-03-20T17:37:29.034906Z"
    },
    "papermill": {
     "duration": 0.027555,
     "end_time": "2023-03-20T17:37:29.038171",
     "exception": false,
     "start_time": "2023-03-20T17:37:29.010616",
     "status": "completed"
    },
    "tags": []
   },
   "outputs": [],
   "source": [
    "train_data"
   ]
  },
  {
   "cell_type": "code",
   "execution_count": 8,
   "id": "f24d24a0",
   "metadata": {
    "execution": {
     "iopub.execute_input": "2023-03-20T17:37:29.063579Z",
     "iopub.status.busy": "2023-03-20T17:37:29.062567Z",
     "iopub.status.idle": "2023-03-20T17:37:29.071176Z",
     "shell.execute_reply": "2023-03-20T17:37:29.070194Z"
    },
    "papermill": {
     "duration": 0.023193,
     "end_time": "2023-03-20T17:37:29.073040",
     "exception": false,
     "start_time": "2023-03-20T17:37:29.049847",
     "status": "completed"
    },
    "tags": []
   },
   "outputs": [
    {
     "data": {
      "text/html": [
       "<div>\n",
       "<style scoped>\n",
       "    .dataframe tbody tr th:only-of-type {\n",
       "        vertical-align: middle;\n",
       "    }\n",
       "\n",
       "    .dataframe tbody tr th {\n",
       "        vertical-align: top;\n",
       "    }\n",
       "\n",
       "    .dataframe thead th {\n",
       "        text-align: right;\n",
       "    }\n",
       "</style>\n",
       "<table border=\"1\" class=\"dataframe\">\n",
       "  <thead>\n",
       "    <tr style=\"text-align: right;\">\n",
       "      <th></th>\n",
       "      <th>Images</th>\n",
       "    </tr>\n",
       "    <tr>\n",
       "      <th>Labels</th>\n",
       "      <th></th>\n",
       "    </tr>\n",
       "  </thead>\n",
       "  <tbody>\n",
       "    <tr>\n",
       "      <th>fire</th>\n",
       "      <td>760</td>\n",
       "    </tr>\n",
       "    <tr>\n",
       "      <th>nofire</th>\n",
       "      <td>760</td>\n",
       "    </tr>\n",
       "  </tbody>\n",
       "</table>\n",
       "</div>"
      ],
      "text/plain": [
       "        Images\n",
       "Labels        \n",
       "fire       760\n",
       "nofire     760"
      ]
     },
     "execution_count": 8,
     "metadata": {},
     "output_type": "execute_result"
    }
   ],
   "source": [
    "test_data"
   ]
  },
  {
   "cell_type": "code",
   "execution_count": 7,
   "id": "455be7c5",
   "metadata": {
    "execution": {
     "iopub.execute_input": "2023-03-20T17:37:29.098071Z",
     "iopub.status.busy": "2023-03-20T17:37:29.097723Z",
     "iopub.status.idle": "2023-03-20T17:37:29.102685Z",
     "shell.execute_reply": "2023-03-20T17:37:29.101802Z"
    },
    "papermill": {
     "duration": 0.019615,
     "end_time": "2023-03-20T17:37:29.104666",
     "exception": false,
     "start_time": "2023-03-20T17:37:29.085051",
     "status": "completed"
    },
    "tags": []
   },
   "outputs": [],
   "source": [
    "train_datagen = ImageDataGenerator(\n",
    "    rescale=1./255,\n",
    "    horizontal_flip=True,\n",
    "    vertical_flip=True,\n",
    "    shear_range=0.2,\n",
    "    zoom_range=0.2,\n",
    "    width_shift_range=0.2,\n",
    "    height_shift_range=0.2,\n",
    "    rotation_range=50,\n",
    "    validation_split=0.3,\n",
    "    )"
   ]
  },
  {
   "cell_type": "code",
   "execution_count": 8,
   "id": "a7aa4f37",
   "metadata": {
    "execution": {
     "iopub.execute_input": "2023-03-20T17:37:29.129783Z",
     "iopub.status.busy": "2023-03-20T17:37:29.128931Z",
     "iopub.status.idle": "2023-03-20T17:37:41.103963Z",
     "shell.execute_reply": "2023-03-20T17:37:41.102352Z"
    },
    "papermill": {
     "duration": 11.989915,
     "end_time": "2023-03-20T17:37:41.106181",
     "exception": false,
     "start_time": "2023-03-20T17:37:29.116266",
     "status": "completed"
    },
    "tags": []
   },
   "outputs": [
    {
     "name": "stdout",
     "output_type": "stream",
     "text": [
      "Found 7000 validated image filenames belonging to 2 classes.\n",
      "Found 3000 validated image filenames belonging to 2 classes.\n"
     ]
    }
   ],
   "source": [
    "train_generator=train_datagen.flow_from_dataframe(\n",
    "dataframe=df_train,\n",
    "directory='/kaggle/input/flamedataset/train',\n",
    "x_col=\"Images\",\n",
    "y_col=\"Labels\",\n",
    "subset='training',\n",
    "batch_size=16,\n",
    "seed=42,\n",
    "shuffle=True,\n",
    "class_mode=\"categorical\",\n",
    "target_size=(224,224))\n",
    "\n",
    "\n",
    "valid_generator=train_datagen.flow_from_dataframe(\n",
    "dataframe=df_train,\n",
    "directory='/kaggle/input/flamedataset/train',\n",
    "x_col=\"Images\",\n",
    "y_col=\"Labels\",\n",
    "subset='validation',\n",
    "batch_size=16,\n",
    "seed=42,\n",
    "shuffle=True,\n",
    "class_mode=\"categorical\",\n",
    "target_size=(224,224))"
   ]
  },
  {
   "cell_type": "code",
   "execution_count": 9,
   "id": "b284ba3d",
   "metadata": {
    "execution": {
     "iopub.execute_input": "2023-03-20T17:37:41.131386Z",
     "iopub.status.busy": "2023-03-20T17:37:41.131026Z",
     "iopub.status.idle": "2023-03-20T17:37:41.634783Z",
     "shell.execute_reply": "2023-03-20T17:37:41.633613Z"
    },
    "papermill": {
     "duration": 0.519067,
     "end_time": "2023-03-20T17:37:41.637148",
     "exception": false,
     "start_time": "2023-03-20T17:37:41.118081",
     "status": "completed"
    },
    "tags": []
   },
   "outputs": [
    {
     "data": {
      "text/plain": [
       "{0: 0.7877560207067297, 1: 1.368791552600704}"
      ]
     },
     "execution_count": 9,
     "metadata": {},
     "output_type": "execute_result"
    }
   ],
   "source": [
    "from sklearn.utils import class_weight\n",
    "class_weights = class_weight.compute_class_weight(\n",
    "    class_weight='balanced',\n",
    "    classes=np.unique(train_generator.classes), \n",
    "    y=train_generator.classes\n",
    ")\n",
    "train_class_weights = dict(enumerate(class_weights))\n",
    "train_class_weights"
   ]
  },
  {
   "cell_type": "code",
   "execution_count": 10,
   "id": "6c23b635",
   "metadata": {
    "execution": {
     "iopub.execute_input": "2023-03-20T17:37:41.667529Z",
     "iopub.status.busy": "2023-03-20T17:37:41.667175Z",
     "iopub.status.idle": "2023-03-20T17:38:01.252080Z",
     "shell.execute_reply": "2023-03-20T17:38:01.250383Z"
    },
    "papermill": {
     "duration": 19.601479,
     "end_time": "2023-03-20T17:38:01.254994",
     "exception": false,
     "start_time": "2023-03-20T17:37:41.653515",
     "status": "completed"
    },
    "tags": []
   },
   "outputs": [
    {
     "name": "stdout",
     "output_type": "stream",
     "text": [
      "/bin/bash: /opt/conda/lib/libtinfo.so.6: no version information available (required by /bin/bash)\n",
      "Requirement already satisfied: keras-tuner in /opt/conda/lib/python3.7/site-packages (1.1.3)\n",
      "Requirement already satisfied: tensorboard in /opt/conda/lib/python3.7/site-packages (from keras-tuner) (2.9.1)\n",
      "Requirement already satisfied: kt-legacy in /opt/conda/lib/python3.7/site-packages (from keras-tuner) (1.0.4)\n",
      "Requirement already satisfied: numpy in /opt/conda/lib/python3.7/site-packages (from keras-tuner) (1.21.6)\n",
      "Requirement already satisfied: requests in /opt/conda/lib/python3.7/site-packages (from keras-tuner) (2.28.1)\n",
      "Requirement already satisfied: packaging in /opt/conda/lib/python3.7/site-packages (from keras-tuner) (23.0)\n",
      "Requirement already satisfied: ipython in /opt/conda/lib/python3.7/site-packages (from keras-tuner) (7.33.0)\n",
      "Requirement already satisfied: pexpect>4.3 in /opt/conda/lib/python3.7/site-packages (from ipython->keras-tuner) (4.8.0)\n",
      "Requirement already satisfied: prompt-toolkit!=3.0.0,!=3.0.1,<3.1.0,>=2.0.0 in /opt/conda/lib/python3.7/site-packages (from ipython->keras-tuner) (3.0.31)\n",
      "Requirement already satisfied: matplotlib-inline in /opt/conda/lib/python3.7/site-packages (from ipython->keras-tuner) (0.1.6)\n",
      "Requirement already satisfied: backcall in /opt/conda/lib/python3.7/site-packages (from ipython->keras-tuner) (0.2.0)\n",
      "Requirement already satisfied: decorator in /opt/conda/lib/python3.7/site-packages (from ipython->keras-tuner) (5.1.1)\n",
      "Requirement already satisfied: setuptools>=18.5 in /opt/conda/lib/python3.7/site-packages (from ipython->keras-tuner) (59.8.0)\n",
      "Requirement already satisfied: jedi>=0.16 in /opt/conda/lib/python3.7/site-packages (from ipython->keras-tuner) (0.18.1)\n",
      "Requirement already satisfied: traitlets>=4.2 in /opt/conda/lib/python3.7/site-packages (from ipython->keras-tuner) (5.4.0)\n",
      "Requirement already satisfied: pickleshare in /opt/conda/lib/python3.7/site-packages (from ipython->keras-tuner) (0.7.5)\n",
      "Requirement already satisfied: pygments in /opt/conda/lib/python3.7/site-packages (from ipython->keras-tuner) (2.14.0)\n",
      "Requirement already satisfied: certifi>=2017.4.17 in /opt/conda/lib/python3.7/site-packages (from requests->keras-tuner) (2022.12.7)\n",
      "Requirement already satisfied: charset-normalizer<3,>=2 in /opt/conda/lib/python3.7/site-packages (from requests->keras-tuner) (2.1.1)\n",
      "Requirement already satisfied: urllib3<1.27,>=1.21.1 in /opt/conda/lib/python3.7/site-packages (from requests->keras-tuner) (1.26.11)\n",
      "Requirement already satisfied: idna<4,>=2.5 in /opt/conda/lib/python3.7/site-packages (from requests->keras-tuner) (3.3)\n",
      "Requirement already satisfied: tensorboard-data-server<0.7.0,>=0.6.0 in /opt/conda/lib/python3.7/site-packages (from tensorboard->keras-tuner) (0.6.1)\n",
      "Requirement already satisfied: google-auth<3,>=1.6.3 in /opt/conda/lib/python3.7/site-packages (from tensorboard->keras-tuner) (1.35.0)\n",
      "Collecting protobuf<3.20,>=3.9.2\n",
      "  Downloading protobuf-3.19.6-cp37-cp37m-manylinux_2_17_x86_64.manylinux2014_x86_64.whl (1.1 MB)\n",
      "\u001b[2K     \u001b[90m━━━━━━━━━━━━━━━━━━━━━━━━━━━━━━━━━━━━━━━━\u001b[0m \u001b[32m1.1/1.1 MB\u001b[0m \u001b[31m29.6 MB/s\u001b[0m eta \u001b[36m0:00:00\u001b[0m00:01\u001b[0m\n",
      "\u001b[?25hRequirement already satisfied: google-auth-oauthlib<0.5,>=0.4.1 in /opt/conda/lib/python3.7/site-packages (from tensorboard->keras-tuner) (0.4.6)\n",
      "Requirement already satisfied: tensorboard-plugin-wit>=1.6.0 in /opt/conda/lib/python3.7/site-packages (from tensorboard->keras-tuner) (1.8.1)\n",
      "Requirement already satisfied: grpcio>=1.24.3 in /opt/conda/lib/python3.7/site-packages (from tensorboard->keras-tuner) (1.48.1)\n",
      "Requirement already satisfied: wheel>=0.26 in /opt/conda/lib/python3.7/site-packages (from tensorboard->keras-tuner) (0.37.1)\n",
      "Requirement already satisfied: absl-py>=0.4 in /opt/conda/lib/python3.7/site-packages (from tensorboard->keras-tuner) (1.2.0)\n",
      "Requirement already satisfied: werkzeug>=1.0.1 in /opt/conda/lib/python3.7/site-packages (from tensorboard->keras-tuner) (2.2.2)\n",
      "Requirement already satisfied: markdown>=2.6.8 in /opt/conda/lib/python3.7/site-packages (from tensorboard->keras-tuner) (3.4.1)\n",
      "Requirement already satisfied: cachetools<5.0,>=2.0.0 in /opt/conda/lib/python3.7/site-packages (from google-auth<3,>=1.6.3->tensorboard->keras-tuner) (4.2.4)\n",
      "Requirement already satisfied: pyasn1-modules>=0.2.1 in /opt/conda/lib/python3.7/site-packages (from google-auth<3,>=1.6.3->tensorboard->keras-tuner) (0.2.7)\n",
      "Requirement already satisfied: rsa<5,>=3.1.4 in /opt/conda/lib/python3.7/site-packages (from google-auth<3,>=1.6.3->tensorboard->keras-tuner) (4.9)\n",
      "Requirement already satisfied: six>=1.9.0 in /opt/conda/lib/python3.7/site-packages (from google-auth<3,>=1.6.3->tensorboard->keras-tuner) (1.16.0)\n",
      "Requirement already satisfied: requests-oauthlib>=0.7.0 in /opt/conda/lib/python3.7/site-packages (from google-auth-oauthlib<0.5,>=0.4.1->tensorboard->keras-tuner) (1.3.1)\n",
      "Requirement already satisfied: parso<0.9.0,>=0.8.0 in /opt/conda/lib/python3.7/site-packages (from jedi>=0.16->ipython->keras-tuner) (0.8.3)\n",
      "Requirement already satisfied: importlib-metadata>=4.4 in /opt/conda/lib/python3.7/site-packages (from markdown>=2.6.8->tensorboard->keras-tuner) (6.0.0)\n",
      "Requirement already satisfied: ptyprocess>=0.5 in /opt/conda/lib/python3.7/site-packages (from pexpect>4.3->ipython->keras-tuner) (0.7.0)\n",
      "Requirement already satisfied: wcwidth in /opt/conda/lib/python3.7/site-packages (from prompt-toolkit!=3.0.0,!=3.0.1,<3.1.0,>=2.0.0->ipython->keras-tuner) (0.2.5)\n",
      "Requirement already satisfied: MarkupSafe>=2.1.1 in /opt/conda/lib/python3.7/site-packages (from werkzeug>=1.0.1->tensorboard->keras-tuner) (2.1.2)\n",
      "Requirement already satisfied: zipp>=0.5 in /opt/conda/lib/python3.7/site-packages (from importlib-metadata>=4.4->markdown>=2.6.8->tensorboard->keras-tuner) (3.8.1)\n",
      "Requirement already satisfied: typing-extensions>=3.6.4 in /opt/conda/lib/python3.7/site-packages (from importlib-metadata>=4.4->markdown>=2.6.8->tensorboard->keras-tuner) (4.1.1)\n",
      "Requirement already satisfied: pyasn1<0.5.0,>=0.4.6 in /opt/conda/lib/python3.7/site-packages (from pyasn1-modules>=0.2.1->google-auth<3,>=1.6.3->tensorboard->keras-tuner) (0.4.8)\n",
      "Requirement already satisfied: oauthlib>=3.0.0 in /opt/conda/lib/python3.7/site-packages (from requests-oauthlib>=0.7.0->google-auth-oauthlib<0.5,>=0.4.1->tensorboard->keras-tuner) (3.2.1)\n",
      "Installing collected packages: protobuf\n",
      "  Attempting uninstall: protobuf\n",
      "    Found existing installation: protobuf 3.20.3\n",
      "    Uninstalling protobuf-3.20.3:\n",
      "      Successfully uninstalled protobuf-3.20.3\n",
      "\u001b[31mERROR: pip's dependency resolver does not currently take into account all the packages that are installed. This behaviour is the source of the following dependency conflicts.\n",
      "tfx-bsl 1.10.1 requires google-api-python-client<2,>=1.7.11, but you have google-api-python-client 2.61.0 which is incompatible.\n",
      "tfx-bsl 1.10.1 requires pyarrow<7,>=6, but you have pyarrow 9.0.0 which is incompatible.\n",
      "tensorflow-transform 1.10.1 requires pyarrow<7,>=6, but you have pyarrow 9.0.0 which is incompatible.\n",
      "tensorflow-serving-api 2.10.0 requires tensorflow<3,>=2.10.0, but you have tensorflow 2.9.2 which is incompatible.\n",
      "ortools 9.5.2237 requires protobuf>=4.21.5, but you have protobuf 3.19.6 which is incompatible.\n",
      "onnx 1.13.0 requires protobuf<4,>=3.20.2, but you have protobuf 3.19.6 which is incompatible.\n",
      "nnabla 1.34.0 requires protobuf<=3.19.4; platform_system != \"Windows\", but you have protobuf 3.19.6 which is incompatible.\n",
      "google-cloud-logging 3.2.2 requires google-cloud-core<3.0.0dev,>=2.0.0, but you have google-cloud-core 1.7.3 which is incompatible.\n",
      "google-api-core 1.33.0 requires protobuf<4.0.0dev,>=3.20.1, but you have protobuf 3.19.6 which is incompatible.\n",
      "gcsfs 2022.8.2 requires fsspec==2022.8.2, but you have fsspec 2023.1.0 which is incompatible.\n",
      "apache-beam 2.41.0 requires dill<0.3.2,>=0.3.1.1, but you have dill 0.3.6 which is incompatible.\n",
      "apache-beam 2.41.0 requires pyarrow<8.0.0,>=0.15.1, but you have pyarrow 9.0.0 which is incompatible.\u001b[0m\u001b[31m\n",
      "\u001b[0mSuccessfully installed protobuf-3.19.6\n",
      "\u001b[33mWARNING: Running pip as the 'root' user can result in broken permissions and conflicting behaviour with the system package manager. It is recommended to use a virtual environment instead: https://pip.pypa.io/warnings/venv\u001b[0m\u001b[33m\n"
     ]
    },
    {
     "name": "stdout",
     "output_type": "stream",
     "text": [
      "\u001b[0mNote: you may need to restart the kernel to use updated packages.\n"
     ]
    }
   ],
   "source": [
    "pip install keras-tuner"
   ]
  },
  {
   "cell_type": "code",
   "execution_count": 11,
   "id": "0b90c078",
   "metadata": {
    "execution": {
     "iopub.execute_input": "2023-03-20T17:38:01.283883Z",
     "iopub.status.busy": "2023-03-20T17:38:01.283499Z",
     "iopub.status.idle": "2023-03-20T17:38:01.434682Z",
     "shell.execute_reply": "2023-03-20T17:38:01.432157Z"
    },
    "papermill": {
     "duration": 0.167677,
     "end_time": "2023-03-20T17:38:01.436942",
     "exception": false,
     "start_time": "2023-03-20T17:38:01.269265",
     "status": "completed"
    },
    "tags": []
   },
   "outputs": [
    {
     "name": "stderr",
     "output_type": "stream",
     "text": [
      "/opt/conda/lib/python3.7/site-packages/ipykernel_launcher.py:2: DeprecationWarning: `import kerastuner` is deprecated, please use `import keras_tuner`.\n",
      "  \n"
     ]
    }
   ],
   "source": [
    "import tensorflow as tf\n",
    "from kerastuner.tuners import BayesianOptimization\n",
    "import keras_tuner as kt\n",
    "hp = kt.HyperParameters()"
   ]
  },
  {
   "cell_type": "markdown",
   "id": "1f6dd987",
   "metadata": {
    "papermill": {
     "duration": 0.0128,
     "end_time": "2023-03-20T17:38:01.463710",
     "exception": false,
     "start_time": "2023-03-20T17:38:01.450910",
     "status": "completed"
    },
    "tags": []
   },
   "source": [
    "# ***MODEL BUILDING***"
   ]
  },
  {
   "cell_type": "code",
   "execution_count": 12,
   "id": "3250ddbc",
   "metadata": {
    "execution": {
     "iopub.execute_input": "2023-03-20T17:38:01.492464Z",
     "iopub.status.busy": "2023-03-20T17:38:01.491480Z",
     "iopub.status.idle": "2023-03-20T17:38:01.498798Z",
     "shell.execute_reply": "2023-03-20T17:38:01.497821Z"
    },
    "papermill": {
     "duration": 0.023872,
     "end_time": "2023-03-20T17:38:01.500942",
     "exception": false,
     "start_time": "2023-03-20T17:38:01.477070",
     "status": "completed"
    },
    "tags": []
   },
   "outputs": [],
   "source": [
    "# ECA BLOCK\n",
    "def ECA(x):\n",
    "    k_size = 3 \n",
    "    squeeze = tf.reduce_mean(x,(2,3),keepdims=False)\n",
    "    squeeze = tf.expand_dims(squeeze, axis=1)\n",
    "    attn = layers.Conv1D(filters=1,\n",
    "    kernel_size=k_size,\n",
    "    padding='same',\n",
    "    kernel_initializer='random_normal',\n",
    "    use_bias=False)(squeeze)\n",
    "\n",
    "    attn = tf.expand_dims(tf.transpose(attn, [0, 2, 1]), 3)\n",
    "    attn = tf.math.sigmoid(attn)\n",
    "    scale = x * attn\n",
    "    return x * attn"
   ]
  },
  {
   "cell_type": "code",
   "execution_count": 13,
   "id": "6f5670f9",
   "metadata": {
    "execution": {
     "iopub.execute_input": "2023-03-20T17:38:01.531226Z",
     "iopub.status.busy": "2023-03-20T17:38:01.530418Z",
     "iopub.status.idle": "2023-03-20T17:38:01.538222Z",
     "shell.execute_reply": "2023-03-20T17:38:01.537225Z"
    },
    "papermill": {
     "duration": 0.024622,
     "end_time": "2023-03-20T17:38:01.540318",
     "exception": false,
     "start_time": "2023-03-20T17:38:01.515696",
     "status": "completed"
    },
    "tags": []
   },
   "outputs": [],
   "source": [
    "def resblock(inputs, filters, strides):\n",
    "    \n",
    "    y = inputs # Shortcut path\n",
    "    \n",
    "    # Main path\n",
    "    x = tf.keras.layers.Conv2D(\n",
    "        filters=filters,\n",
    "        kernel_size=3,\n",
    "        strides=strides,\n",
    "        padding='same',\n",
    "    )(inputs)\n",
    "    x = tf.keras.layers.BatchNormalization()(x)\n",
    "    x = tf.keras.layers.ReLU()(x)\n",
    "\n",
    "    x = tf.keras.layers.Conv2D(\n",
    "        filters=filters,\n",
    "        kernel_size=3,\n",
    "        strides=1,\n",
    "        padding='same',\n",
    "    )(x)\n",
    "    x = tf.keras.layers.BatchNormalization()(x)\n",
    "\n",
    "    # Fit shortcut path dimenstions\n",
    "    if strides > 1:\n",
    "        y = tf.keras.layers.Conv2D(\n",
    "        filters=filters,\n",
    "        kernel_size=3,\n",
    "        strides=strides,\n",
    "        padding='same',\n",
    "        )(y)\n",
    "        y = tf.keras.layers.BatchNormalization()(y)\n",
    "\n",
    "    # Concatenate paths\n",
    "    x = tf.keras.layers.Add()([x, y])\n",
    "    x = tf.keras.layers.ReLU()(x)\n",
    "\n",
    "    return x"
   ]
  },
  {
   "cell_type": "markdown",
   "id": "cddf5291",
   "metadata": {
    "papermill": {
     "duration": 0.01299,
     "end_time": "2023-03-20T17:38:01.566874",
     "exception": false,
     "start_time": "2023-03-20T17:38:01.553884",
     "status": "completed"
    },
    "tags": []
   },
   "source": [
    "# ***HYPER PARAM TUNING***"
   ]
  },
  {
   "cell_type": "code",
   "execution_count": 14,
   "id": "8d3305fa",
   "metadata": {
    "execution": {
     "iopub.execute_input": "2023-03-20T17:38:01.594859Z",
     "iopub.status.busy": "2023-03-20T17:38:01.594480Z",
     "iopub.status.idle": "2023-03-20T17:38:01.611592Z",
     "shell.execute_reply": "2023-03-20T17:38:01.610639Z"
    },
    "papermill": {
     "duration": 0.033955,
     "end_time": "2023-03-20T17:38:01.613775",
     "exception": false,
     "start_time": "2023-03-20T17:38:01.579820",
     "status": "completed"
    },
    "tags": []
   },
   "outputs": [],
   "source": [
    "def build_model(hp):\n",
    "    inputs = layers.Input(shape=(IMG_SIZE, IMG_SIZE, 3))\n",
    "    x = inputs\n",
    "    model = EfficientNetB7(include_top=False, input_tensor=x, weights=\"imagenet\")\n",
    "    \n",
    "    for layer in model.layers:\n",
    "        if layer.name not in ['block7d_project_conv']:\n",
    "            layer.trainable = False\n",
    "\n",
    "    # Rebuild top\n",
    "#     x = tf.keras.layers.ReLU()(model.output)\n",
    "#     filters_res=hp.Int('Res_filter', min_value=32, max_value=512, step=32)\n",
    "#     x = resblock(x, filters_res,  2)\n",
    "#     x = resblock(x, filters_res,  1)\n",
    "    x = layers.BatchNormalization()(x)\n",
    "    x = layers.GlobalAveragePooling2D(name=\"avg_pool\")(x)\n",
    "    x = layers.Flatten()(x)\n",
    "    \n",
    "    \n",
    "\n",
    "    \n",
    "    # ECA-Net\n",
    "\n",
    "    x1 = layers.Resizing(IMG_SIZE, IMG_SIZE)(inputs)\n",
    "    x2 = layers.Rescaling(1./255)(x1)\n",
    "    x3 = layers.Conv2D(filters=hp.Int('conv_1_filter', min_value=16, max_value=32, step=5), kernel_size=(3, 3), activation='relu', \n",
    "                      padding = 'same', input_shape=(IMG_SIZE,IMG_SIZE,3))(x2)\n",
    "    x4 = ECA(x3)\n",
    "    x5 = layers.BatchNormalization(axis=-1)(x4)\n",
    "    x6 = layers.MaxPool2D(pool_size=(2, 2))(x5)\n",
    "    x7 = layers.Conv2D(filters=hp.Int('conv_2_filter', min_value=32, max_value=64, step=10), kernel_size=(3, 3), \n",
    "                      activation='relu', padding = 'same')(x6)\n",
    "    x8 = ECA(x7)\n",
    "    x9 = layers.BatchNormalization(axis=-1)(x8)\n",
    "    x10 = layers.MaxPool2D(pool_size=(2, 2))(x9)\n",
    "    x11 = layers.Conv2D(filters=hp.Int('conv_3_filter', min_value=64, max_value=128, step=15), kernel_size=(3, 3), \n",
    "                        activation='relu', padding = 'same')(x10)\n",
    "\n",
    "    x12 = ECA(x11)\n",
    "    x13 = layers.BatchNormalization(axis=-1)(x12)\n",
    "    x14 = layers.MaxPool2D(pool_size=(2, 2))(x13)\n",
    "    x15 = layers.Conv2D(filters=hp.Int('conv_4_filter', min_value=128, max_value=256, step=20), kernel_size=(3, 3), \n",
    "                          activation='relu', padding = 'same')(x14)\n",
    "    x16 = ECA(x15)\n",
    "    x17 = layers.BatchNormalization(axis=-1)(x16)\n",
    "    x18 = layers.MaxPool2D(pool_size=(2, 2))(x17)\n",
    "    y1 = layers.Flatten()(x18)\n",
    "    concat = Concatenate()([y1,x])\n",
    "    dense1  = layers.Dense(units=hp.Int('dense_units_1', min_value=128, max_value=512, step=64), activation='relu')(concat)\n",
    "    dropout1= Dropout(hp.Float('dropout', 0.25, 0.4, step=0.05))(dense1)\n",
    "    outputs = layers.Dense(NUM_CLASSES, activation=\"softmax\", name=\"pred\")(dropout1)\n",
    "\n",
    "    # Compile\n",
    "       \n",
    "    model = tf.keras.Model(inputs, outputs, name=\"EfficientAttentioNet\")\n",
    "    model.compile(\n",
    "         optimizer=keras.optimizers.Adam(\n",
    "         hp.Choice('learning_rate', values=[1e-4, 1e-5])),\n",
    "         loss='categorical_crossentropy',\n",
    "         metrics=['accuracy'])\n",
    "    \n",
    "    return model"
   ]
  },
  {
   "cell_type": "code",
   "execution_count": 15,
   "id": "3e90bf1c",
   "metadata": {
    "execution": {
     "iopub.execute_input": "2023-03-20T17:38:01.642095Z",
     "iopub.status.busy": "2023-03-20T17:38:01.641216Z",
     "iopub.status.idle": "2023-03-20T17:38:19.545005Z",
     "shell.execute_reply": "2023-03-20T17:38:19.544000Z"
    },
    "papermill": {
     "duration": 17.920415,
     "end_time": "2023-03-20T17:38:19.547521",
     "exception": false,
     "start_time": "2023-03-20T17:38:01.627106",
     "status": "completed"
    },
    "tags": []
   },
   "outputs": [
    {
     "name": "stdout",
     "output_type": "stream",
     "text": [
      "Downloading data from https://storage.googleapis.com/keras-applications/efficientnetb7_notop.h5\n",
      "258076736/258076736 [==============================] - 8s 0us/step\n"
     ]
    }
   ],
   "source": [
    "tuner = BayesianOptimization(\n",
    "    build_model,\n",
    "    objective='val_accuracy',\n",
    "    max_trials=10,\n",
    "    directory='my_dir',\n",
    "    project_name='Optimization')"
   ]
  },
  {
   "cell_type": "code",
   "execution_count": 16,
   "id": "feb1cccb",
   "metadata": {
    "execution": {
     "iopub.execute_input": "2023-03-20T17:38:19.594845Z",
     "iopub.status.busy": "2023-03-20T17:38:19.594459Z"
    },
    "papermill": {
     "duration": null,
     "end_time": null,
     "exception": false,
     "start_time": "2023-03-20T17:38:19.572818",
     "status": "running"
    },
    "tags": []
   },
   "outputs": [
    {
     "name": "stdout",
     "output_type": "stream",
     "text": [
      "\n",
      "Search: Running Trial #1\n",
      "\n",
      "Value             |Best Value So Far |Hyperparameter\n",
      "21                |?                 |conv_1_filter\n",
      "62                |?                 |conv_2_filter\n",
      "94                |?                 |conv_3_filter\n",
      "148               |?                 |conv_4_filter\n",
      "448               |?                 |dense_units_1\n",
      "0.35              |?                 |dropout\n",
      "0.0001            |?                 |learning_rate\n",
      "\n",
      "Epoch 1/5\n",
      "319/438 [====================>.........] - ETA: 28s - loss: 0.3747 - accuracy: 0.9134"
     ]
    }
   ],
   "source": [
    "tuner.search(train_generator, epochs=5, validation_data=valid_generator,class_weight=train_class_weights)\n",
    "\n",
    "# Print the optimal hyperparameters\n",
    "best_hps = tuner.get_best_hyperparameters(num_trials=1)[0]\n",
    "print(f\"Optimal number of filter in the first Conv layer: {best_hps.get('conv_1_filter')}\")\n",
    "print(f\"Optimal number of filter in the second Conv layer: {best_hps.get('conv_2_filter')}\")\n",
    "print(f\"Optimal number of filter in the Third Conv layer: {best_hps.get('conv_3_filter')}\")\n",
    "print(f\"Optimal number of filter in the Fourth Conv layer: {best_hps.get('conv_4_filter')}\")\n",
    "print(f\"Optimal number of units in the first dense layer: {best_hps.get('dense_units_1')}\")\n",
    "print(f\"Optimal number of units in the dropout layer: {best_hps.get('dropout')}\")\n",
    "print(f\"Optimal learning rate: {best_hps.get('learning_rate')}\")"
   ]
  },
  {
   "cell_type": "code",
   "execution_count": null,
   "id": "dfece5dd",
   "metadata": {
    "execution": {
     "iopub.execute_input": "2023-03-19T13:52:34.276820Z",
     "iopub.status.busy": "2023-03-19T13:52:34.276292Z",
     "iopub.status.idle": "2023-03-19T13:52:34.292623Z",
     "shell.execute_reply": "2023-03-19T13:52:34.291478Z",
     "shell.execute_reply.started": "2023-03-19T13:52:34.276784Z"
    },
    "papermill": {
     "duration": null,
     "end_time": null,
     "exception": null,
     "start_time": null,
     "status": "pending"
    },
    "tags": []
   },
   "outputs": [],
   "source": [
    "def build_model(num_classes):\n",
    "    inputs = layers.Input(shape=(IMG_SIZE, IMG_SIZE, 3))\n",
    "    x = inputs\n",
    "    model = EfficientNetB7(include_top=False, input_tensor=x, weights=\"imagenet\")\n",
    "\n",
    "    for layer in model.layers:\n",
    "        if layer.name not in ['block7d_project_conv']:\n",
    "            layer.trainable = False\n",
    "\n",
    "        if layer.trainable:\n",
    "            print(layer.name)\n",
    "\n",
    "    # Rebuild top\n",
    "    x = layers.BatchNormalization()(model.output)\n",
    "    x = layers.GlobalAveragePooling2D(name=\"avg_pool\")(x)\n",
    "    x = layers.Flatten()(x)\n",
    "    \n",
    "    \n",
    "\n",
    "    \n",
    "    # ECA-Net\n",
    "\n",
    "    x1 = layers.Resizing(IMG_SIZE, IMG_SIZE)(inputs)\n",
    "    x2 = layers.Rescaling(1./255)(x1)\n",
    "    x3 = layers.Conv2D(filters=32, kernel_size=(3, 3), activation='relu', \n",
    "                      padding = 'same', input_shape=(IMG_SIZE,IMG_SIZE,3))(x2)\n",
    "    x4 = ECA(x3)\n",
    "    x5 = layers.BatchNormalization(axis=-1)(x4)\n",
    "    x6 = layers.MaxPool2D(pool_size=(2, 2))(x5)\n",
    "    x7 = layers.Conv2D(filters=64, kernel_size=(3, 3), \n",
    "                      activation='relu', padding = 'same')(x6)\n",
    "    x8 = ECA(x7)\n",
    "    x9 = layers.BatchNormalization(axis=-1)(x8)\n",
    "    x10 = layers.MaxPool2D(pool_size=(2, 2))(x9)\n",
    "    x11 = layers.Conv2D(filters=128, kernel_size=(3, 3), \n",
    "                        activation='relu', padding = 'same')(x10)\n",
    "\n",
    "    x12 = ECA(x11)\n",
    "    x13 = layers.BatchNormalization(axis=-1)(x12)\n",
    "    x14 = layers.MaxPool2D(pool_size=(2, 2))(x13)\n",
    "    x15 = layers.Conv2D(filters=256, kernel_size=(3, 3), \n",
    "                          activation='relu', padding = 'same')(x14)\n",
    "    x16 = ECA(x15)\n",
    "    x17 = layers.BatchNormalization(axis=-1)(x16)\n",
    "    x18 = layers.MaxPool2D(pool_size=(2, 2))(x17)\n",
    "    y1 = layers.Flatten()(x18)\n",
    "    concat = Concatenate()([y1,x])\n",
    "    dense1  = layers.Dense(512, activation='relu')(concat)\n",
    "    dropout1= Dropout(0.4)(dense1)\n",
    "    outputs = layers.Dense(NUM_CLASSES, activation=\"softmax\", name=\"pred\")(dropout1)\n",
    "\n",
    "    # Compile\n",
    "    model = tf.keras.Model(inputs, outputs, name=\"EfficientAttentioNet\")\n",
    "    optimizer = tf.keras.optimizers.Adam(learning_rate=1e-5) \n",
    "    model.compile(\n",
    "        optimizer=optimizer, loss=\"categorical_crossentropy\", metrics=['Accuracy']\n",
    "    )\n",
    "    return model"
   ]
  },
  {
   "cell_type": "code",
   "execution_count": null,
   "id": "bf752d18",
   "metadata": {
    "execution": {
     "iopub.execute_input": "2023-03-19T13:52:38.707341Z",
     "iopub.status.busy": "2023-03-19T13:52:38.706978Z",
     "iopub.status.idle": "2023-03-19T13:52:49.489553Z",
     "shell.execute_reply": "2023-03-19T13:52:49.488613Z",
     "shell.execute_reply.started": "2023-03-19T13:52:38.707311Z"
    },
    "papermill": {
     "duration": null,
     "end_time": null,
     "exception": null,
     "start_time": null,
     "status": "pending"
    },
    "tags": []
   },
   "outputs": [],
   "source": [
    "model = build_model(num_classes=NUM_CLASSES)"
   ]
  },
  {
   "cell_type": "code",
   "execution_count": null,
   "id": "6cd49c48",
   "metadata": {
    "_kg_hide-input": true,
    "_kg_hide-output": true,
    "papermill": {
     "duration": null,
     "end_time": null,
     "exception": null,
     "start_time": null,
     "status": "pending"
    },
    "tags": []
   },
   "outputs": [],
   "source": [
    "model.summary()"
   ]
  },
  {
   "cell_type": "code",
   "execution_count": null,
   "id": "7adcb6cc",
   "metadata": {
    "execution": {
     "iopub.execute_input": "2023-03-19T13:54:15.970583Z",
     "iopub.status.busy": "2023-03-19T13:54:15.970188Z",
     "iopub.status.idle": "2023-03-19T13:54:19.352983Z",
     "shell.execute_reply": "2023-03-19T13:54:19.351498Z",
     "shell.execute_reply.started": "2023-03-19T13:54:15.970553Z"
    },
    "papermill": {
     "duration": null,
     "end_time": null,
     "exception": null,
     "start_time": null,
     "status": "pending"
    },
    "tags": []
   },
   "outputs": [],
   "source": [
    "from tensorflow.keras.utils import plot_model \n",
    "plot_model(model, to_file=\"my_model.png\", show_shapes=True)"
   ]
  },
  {
   "cell_type": "code",
   "execution_count": null,
   "id": "2f6f123d",
   "metadata": {
    "papermill": {
     "duration": null,
     "end_time": null,
     "exception": null,
     "start_time": null,
     "status": "pending"
    },
    "tags": []
   },
   "outputs": [],
   "source": [
    "import matplotlib.pyplot as plt\n",
    "\n",
    "\n",
    "def plot_hist(hist):\n",
    "    plt.figure(figsize=(20,5))\n",
    "    plt.subplot(1,2,1)\n",
    "    plt.plot(hist.history['Accuracy'])\n",
    "    plt.plot(hist.history['val_Accuracy'])\n",
    "    plt.title('model accuracy')\n",
    "    plt.ylabel('accuracy')\n",
    "    plt.xlabel('epoch')\n",
    "    plt.legend(['train', 'test'], loc='lower right')\n",
    "\n",
    "    plt.subplot(1,2,2)\n",
    "    plt.plot(hist.history['loss'])\n",
    "    plt.plot(hist.history['val_loss'])\n",
    "    plt.title('model loss')\n",
    "    plt.ylabel('loss')\n",
    "    plt.xlabel('epoch')\n",
    "    plt.legend(['train', 'test'], loc='upper right')\n",
    "    plt.show()"
   ]
  },
  {
   "cell_type": "code",
   "execution_count": null,
   "id": "1b5020b0",
   "metadata": {
    "execution": {
     "iopub.execute_input": "2023-03-17T15:23:50.369540Z",
     "iopub.status.busy": "2023-03-17T15:23:50.369155Z",
     "iopub.status.idle": "2023-03-17T15:23:50.374354Z",
     "shell.execute_reply": "2023-03-17T15:23:50.373255Z",
     "shell.execute_reply.started": "2023-03-17T15:23:50.369507Z"
    },
    "papermill": {
     "duration": null,
     "end_time": null,
     "exception": null,
     "start_time": null,
     "status": "pending"
    },
    "tags": []
   },
   "outputs": [],
   "source": [
    "callback = tf.keras.callbacks.EarlyStopping(monitor='loss', patience=6)"
   ]
  },
  {
   "cell_type": "code",
   "execution_count": null,
   "id": "090419b6",
   "metadata": {
    "execution": {
     "iopub.execute_input": "2023-03-17T15:23:52.735462Z",
     "iopub.status.busy": "2023-03-17T15:23:52.735039Z",
     "iopub.status.idle": "2023-03-17T16:59:43.451645Z",
     "shell.execute_reply": "2023-03-17T16:59:43.450585Z",
     "shell.execute_reply.started": "2023-03-17T15:23:52.735425Z"
    },
    "papermill": {
     "duration": null,
     "end_time": null,
     "exception": null,
     "start_time": null,
     "status": "pending"
    },
    "tags": []
   },
   "outputs": [],
   "source": [
    "epochs = 50 \n",
    "hist = model.fit_generator( generator=train_generator,\n",
    "                            validation_data=valid_generator,\n",
    "                            epochs=epochs,\n",
    "                            class_weight=train_class_weights,\n",
    "                            callbacks=[callback],\n",
    "                            verbose=1\n",
    ")"
   ]
  },
  {
   "cell_type": "code",
   "execution_count": null,
   "id": "f0ec11c4",
   "metadata": {
    "execution": {
     "iopub.execute_input": "2023-03-17T17:00:11.227571Z",
     "iopub.status.busy": "2023-03-17T17:00:11.227213Z",
     "iopub.status.idle": "2023-03-17T17:00:11.617667Z",
     "shell.execute_reply": "2023-03-17T17:00:11.616737Z",
     "shell.execute_reply.started": "2023-03-17T17:00:11.227542Z"
    },
    "papermill": {
     "duration": null,
     "end_time": null,
     "exception": null,
     "start_time": null,
     "status": "pending"
    },
    "tags": []
   },
   "outputs": [],
   "source": [
    "plot_hist(hist)  # took 2h:41m to complete"
   ]
  },
  {
   "cell_type": "markdown",
   "id": "4e0c3431",
   "metadata": {
    "papermill": {
     "duration": null,
     "end_time": null,
     "exception": null,
     "start_time": null,
     "status": "pending"
    },
    "tags": []
   },
   "source": [
    "# ***EVALUATION***"
   ]
  },
  {
   "cell_type": "code",
   "execution_count": null,
   "id": "3650badf",
   "metadata": {
    "execution": {
     "iopub.execute_input": "2023-03-17T17:00:22.607799Z",
     "iopub.status.busy": "2023-03-17T17:00:22.607442Z",
     "iopub.status.idle": "2023-03-17T17:00:59.351995Z",
     "shell.execute_reply": "2023-03-17T17:00:59.350996Z",
     "shell.execute_reply.started": "2023-03-17T17:00:22.607761Z"
    },
    "papermill": {
     "duration": null,
     "end_time": null,
     "exception": null,
     "start_time": null,
     "status": "pending"
    },
    "tags": []
   },
   "outputs": [],
   "source": [
    "score = model.evaluate(valid_generator, verbose = 0) \n",
    "print('Validation loss:', score[0]) \n",
    "print('Validation accuracy:', score[1])"
   ]
  },
  {
   "cell_type": "code",
   "execution_count": null,
   "id": "f5f06a3d",
   "metadata": {
    "execution": {
     "iopub.execute_input": "2023-03-17T17:00:59.354335Z",
     "iopub.status.busy": "2023-03-17T17:00:59.353879Z",
     "iopub.status.idle": "2023-03-17T17:01:06.997485Z",
     "shell.execute_reply": "2023-03-17T17:01:06.996452Z",
     "shell.execute_reply.started": "2023-03-17T17:00:59.354296Z"
    },
    "papermill": {
     "duration": null,
     "end_time": null,
     "exception": null,
     "start_time": null,
     "status": "pending"
    },
    "tags": []
   },
   "outputs": [],
   "source": [
    "test_generator=train_datagen.flow_from_dataframe(\n",
    "dataframe=df_test,\n",
    "directory='/kaggle/input/flamedataset/train',\n",
    "x_col=\"Images\",\n",
    "y_col=\"Labels\",\n",
    "batch_size=16,\n",
    "seed=42,\n",
    "shuffle=False,\n",
    "class_mode=\"categorical\",\n",
    "target_size=(224,224))"
   ]
  },
  {
   "cell_type": "code",
   "execution_count": null,
   "id": "3fb62f77",
   "metadata": {
    "execution": {
     "iopub.execute_input": "2023-03-17T17:01:06.999800Z",
     "iopub.status.busy": "2023-03-17T17:01:06.999120Z",
     "iopub.status.idle": "2023-03-17T17:01:57.470874Z",
     "shell.execute_reply": "2023-03-17T17:01:57.469954Z",
     "shell.execute_reply.started": "2023-03-17T17:01:06.999747Z"
    },
    "papermill": {
     "duration": null,
     "end_time": null,
     "exception": null,
     "start_time": null,
     "status": "pending"
    },
    "tags": []
   },
   "outputs": [],
   "source": [
    "test_score = model.evaluate(test_generator, verbose = 0) \n",
    "print('Test loss:', test_score[0]) \n",
    "print('Test accuracy:', test_score[1])"
   ]
  },
  {
   "cell_type": "code",
   "execution_count": null,
   "id": "399d7a2f",
   "metadata": {
    "execution": {
     "iopub.execute_input": "2023-03-17T17:01:57.474399Z",
     "iopub.status.busy": "2023-03-17T17:01:57.473754Z",
     "iopub.status.idle": "2023-03-17T17:01:57.480266Z",
     "shell.execute_reply": "2023-03-17T17:01:57.479114Z",
     "shell.execute_reply.started": "2023-03-17T17:01:57.474358Z"
    },
    "papermill": {
     "duration": null,
     "end_time": null,
     "exception": null,
     "start_time": null,
     "status": "pending"
    },
    "tags": []
   },
   "outputs": [],
   "source": [
    "target_names = []\n",
    "\n",
    "for key in train_generator.class_indices:\n",
    "    target_names.append(key)\n",
    "    \n",
    "print(target_names)"
   ]
  },
  {
   "cell_type": "markdown",
   "id": "d1ca6c98",
   "metadata": {
    "papermill": {
     "duration": null,
     "end_time": null,
     "exception": null,
     "start_time": null,
     "status": "pending"
    },
    "tags": []
   },
   "source": [
    "# ***MATRICES***"
   ]
  },
  {
   "cell_type": "code",
   "execution_count": null,
   "id": "621ff903",
   "metadata": {
    "execution": {
     "iopub.execute_input": "2023-03-17T17:01:57.482440Z",
     "iopub.status.busy": "2023-03-17T17:01:57.482092Z",
     "iopub.status.idle": "2023-03-17T17:01:57.496618Z",
     "shell.execute_reply": "2023-03-17T17:01:57.495652Z",
     "shell.execute_reply.started": "2023-03-17T17:01:57.482406Z"
    },
    "papermill": {
     "duration": null,
     "end_time": null,
     "exception": null,
     "start_time": null,
     "status": "pending"
    },
    "tags": []
   },
   "outputs": [],
   "source": [
    "def plot_confusion_matrix(cm, classes, normalize=True, title='Confusion matrix', cmap=plt.cm.Blues):\n",
    "    plt.figure(figsize=(15,15))\n",
    "    plt.imshow(cm, interpolation='nearest', cmap=cmap)\n",
    "    plt.title(title)\n",
    "    plt.colorbar()\n",
    "\n",
    "    tick_marks = np.arange(len(classes))\n",
    "    plt.xticks(tick_marks, classes, rotation=45)\n",
    "    plt.yticks(tick_marks, classes)\n",
    "\n",
    "    if normalize:\n",
    "        cm = cm.astype('float') / cm.sum(axis=1)[:, np.newaxis]\n",
    "        cm = np.around(cm, decimals=2)\n",
    "        cm[np.isnan(cm)] = 0.0\n",
    "        print(\"Normalized confusion matrix\")\n",
    "    else:\n",
    "        print('Confusion matrix, without normalization')\n",
    "\n",
    "    thresh = cm.max() / 2.\n",
    "    for i, j in itertools.product(range(cm.shape[0]), range(cm.shape[1])):\n",
    "        plt.text(j, i, cm[i, j],\n",
    "                 horizontalalignment=\"center\",\n",
    "                 color=\"white\" if cm[i, j] > thresh else \"black\")\n",
    "        \n",
    "    plt.tight_layout()\n",
    "    plt.ylabel('True label')\n",
    "    plt.xlabel('Predicted label')"
   ]
  },
  {
   "cell_type": "markdown",
   "id": "914ffbe0",
   "metadata": {
    "papermill": {
     "duration": null,
     "end_time": null,
     "exception": null,
     "start_time": null,
     "status": "pending"
    },
    "tags": []
   },
   "source": [
    "***CONFUSION MATRIX***"
   ]
  },
  {
   "cell_type": "code",
   "execution_count": null,
   "id": "b5c21a9c",
   "metadata": {
    "execution": {
     "iopub.execute_input": "2023-03-17T17:01:57.498355Z",
     "iopub.status.busy": "2023-03-17T17:01:57.497936Z",
     "iopub.status.idle": "2023-03-17T17:02:35.769736Z",
     "shell.execute_reply": "2023-03-17T17:02:35.768805Z",
     "shell.execute_reply.started": "2023-03-17T17:01:57.498320Z"
    },
    "papermill": {
     "duration": null,
     "end_time": null,
     "exception": null,
     "start_time": null,
     "status": "pending"
    },
    "tags": []
   },
   "outputs": [],
   "source": [
    "from sklearn.metrics import confusion_matrix,classification_report\n",
    "# Y_pred = model.predict(x_test,batch_size=16)\n",
    "Y_pred = model.predict(test_generator,batch_size=16)\n",
    "y_pred = np.argmax(Y_pred, axis=1)\n",
    "\n",
    "\n",
    "# labels = np.argmax(y_test,axis=-1)\n",
    "\n",
    "print('Confusion Matrix')\n",
    "cm = confusion_matrix(test_generator.classes, y_pred)\n",
    "# cm = confusion_matrix(labels, y_pred)\n",
    "plot_confusion_matrix(cm, target_names, title='Confusion Matrix', normalize=False)\n",
    "\n",
    "\n"
   ]
  },
  {
   "cell_type": "markdown",
   "id": "b48abcf3",
   "metadata": {
    "papermill": {
     "duration": null,
     "end_time": null,
     "exception": null,
     "start_time": null,
     "status": "pending"
    },
    "tags": []
   },
   "source": [
    "***CLASSIFICATION REPORT***"
   ]
  },
  {
   "cell_type": "code",
   "execution_count": null,
   "id": "a420d010",
   "metadata": {
    "execution": {
     "iopub.execute_input": "2023-03-17T17:02:35.771556Z",
     "iopub.status.busy": "2023-03-17T17:02:35.771101Z",
     "iopub.status.idle": "2023-03-17T17:02:35.787178Z",
     "shell.execute_reply": "2023-03-17T17:02:35.786180Z",
     "shell.execute_reply.started": "2023-03-17T17:02:35.771518Z"
    },
    "papermill": {
     "duration": null,
     "end_time": null,
     "exception": null,
     "start_time": null,
     "status": "pending"
    },
    "tags": []
   },
   "outputs": [],
   "source": [
    "print('Classification Report')\n",
    "print(classification_report(test_generator.classes, y_pred, target_names=target_names))"
   ]
  },
  {
   "cell_type": "markdown",
   "id": "fcea7b5f",
   "metadata": {
    "papermill": {
     "duration": null,
     "end_time": null,
     "exception": null,
     "start_time": null,
     "status": "pending"
    },
    "tags": []
   },
   "source": [
    "***ROC-AUC CURVE***"
   ]
  },
  {
   "cell_type": "code",
   "execution_count": null,
   "id": "dd30a69d",
   "metadata": {
    "execution": {
     "iopub.execute_input": "2023-03-17T17:02:35.790597Z",
     "iopub.status.busy": "2023-03-17T17:02:35.790312Z",
     "iopub.status.idle": "2023-03-17T17:02:37.092637Z",
     "shell.execute_reply": "2023-03-17T17:02:37.091730Z",
     "shell.execute_reply.started": "2023-03-17T17:02:35.790572Z"
    },
    "papermill": {
     "duration": null,
     "end_time": null,
     "exception": null,
     "start_time": null,
     "status": "pending"
    },
    "tags": []
   },
   "outputs": [],
   "source": [
    "import seaborn as sns\n",
    "import pandas as pd\n",
    "from sklearn.datasets import make_classification\n",
    "from sklearn.preprocessing import label_binarize\n",
    "from scipy import interp\n",
    "from itertools import cycle\n",
    "import pandas as pd\n",
    "%matplotlib inline\n",
    "import numpy as np\n",
    "import matplotlib.pyplot as plt\n",
    "from sklearn.metrics import roc_curve, auc\n",
    "\n",
    "\n",
    "x_test, y_test = next(test_generator)\n",
    "\n",
    "n_classes = 2\n",
    "\n",
    "pred_Y = model.predict(x_test, batch_size = 16, verbose = True)\n",
    "# Plot linewidth.\n",
    "lw = 2\n",
    "\n",
    "# Compute ROC curve and ROC area for each class\n",
    "\n",
    "# Compute ROC curve and ROC area for each class\n",
    "fpr = dict()\n",
    "tpr = dict()\n",
    "roc_auc = dict()\n",
    "for i in range(n_classes):\n",
    "    fpr[i], tpr[i], _ = roc_curve(y_test[:, i], pred_Y[:, i])\n",
    "    roc_auc[i] = auc(fpr[i], tpr[i])\n",
    "    # Compute micro-average ROC curve and ROC area\n",
    "fpr[\"micro\"], tpr[\"micro\"], _ = roc_curve(y_test.ravel(), pred_Y.ravel())\n",
    "roc_auc[\"micro\"] = auc(fpr[\"micro\"], tpr[\"micro\"])\n",
    "# Plot of a ROC curve for a specific class\n",
    "for i in range(n_classes):\n",
    "    plt.figure()\n",
    "    plt.plot(fpr[i], tpr[i], label='ROC curve (area = %0.2f)' % roc_auc[i])\n",
    "    plt.plot([0, 1], [0, 1], 'k--')\n",
    "    plt.xlim([0.0, 1.0])\n",
    "    plt.ylim([0.0, 1.05])\n",
    "    plt.xlabel('False Positive Rate')\n",
    "    plt.ylabel('True Positive Rate')\n",
    "    plt.title('Receiver operating characteristic example')\n",
    "    plt.legend(loc=\"lower right\")\n",
    "    plt.show()\n",
    "\n",
    "# First aggregate all false positive rates\n",
    "all_fpr = np.unique(np.concatenate([fpr[i] for i in range(n_classes)]))\n",
    "\n",
    "# Then interpolate all ROC curves at this points\n",
    "mean_tpr = np.zeros_like(all_fpr)\n",
    "for i in range(n_classes):\n",
    "    mean_tpr += np.interp(all_fpr, fpr[i], tpr[i])\n",
    "\n",
    "# Finally average it and compute AUC\n",
    "mean_tpr /= n_classes\n",
    "\n",
    "fpr[\"macro\"] = all_fpr\n",
    "tpr[\"macro\"] = mean_tpr\n",
    "roc_auc[\"macro\"] = auc(fpr[\"macro\"], tpr[\"macro\"])\n",
    "\n",
    "# Plot all ROC curves\n",
    "fig = plt.figure(figsize=(12, 8))\n",
    "plt.plot(fpr[\"micro\"], tpr[\"micro\"],\n",
    "         label='micro-average ROC curve (area = {0:0.2f})'\n",
    "               ''.format(roc_auc[\"micro\"]),\n",
    "         color='deeppink', linestyle=':', linewidth=4)\n",
    "\n",
    "plt.plot(fpr[\"macro\"], tpr[\"macro\"],\n",
    "         label='macro-average ROC curve (area = {0:0.2f})'\n",
    "               ''.format(roc_auc[\"macro\"]),\n",
    "         color='navy', linestyle=':', linewidth=4)\n",
    "\n",
    "colors = cycle(['aqua', 'darkorange', 'cornflowerblue'])\n",
    "for i, color in zip(range(n_classes), colors):\n",
    "    plt.plot(fpr[i], tpr[i], color=color, lw=lw,\n",
    "             label='ROC curve of class {0} (area = {1:0.2f})'\n",
    "             ''.format(i, roc_auc[i]))\n",
    "\n",
    "\n",
    "plt.plot([0, 1], [0, 1], 'k--', lw=lw)\n",
    "plt.xlim([0.0, 1.0])\n",
    "plt.ylim([0.0, 1.05])\n",
    "plt.xlabel('False Positive Rate')\n",
    "plt.ylabel('True Positive Rate')\n",
    "plt.title('Multi Class Receiver operating curve')\n",
    "plt.legend(loc=\"lower right\")\n",
    "sns.despine()\n",
    "plt.show()"
   ]
  },
  {
   "cell_type": "markdown",
   "id": "1d0c516d",
   "metadata": {
    "papermill": {
     "duration": null,
     "end_time": null,
     "exception": null,
     "start_time": null,
     "status": "pending"
    },
    "tags": []
   },
   "source": [
    "# ***GRAD-CAM***"
   ]
  },
  {
   "cell_type": "code",
   "execution_count": null,
   "id": "fc09eabf",
   "metadata": {
    "execution": {
     "iopub.execute_input": "2023-03-17T17:05:39.549562Z",
     "iopub.status.busy": "2023-03-17T17:05:39.549179Z",
     "iopub.status.idle": "2023-03-17T17:05:39.555486Z",
     "shell.execute_reply": "2023-03-17T17:05:39.553831Z",
     "shell.execute_reply.started": "2023-03-17T17:05:39.549532Z"
    },
    "papermill": {
     "duration": null,
     "end_time": null,
     "exception": null,
     "start_time": null,
     "status": "pending"
    },
    "tags": []
   },
   "outputs": [],
   "source": [
    "class_indices = test_generator.class_indices\n",
    "indices = {v:k for k,v in class_indices.items()}\n",
    "filenames = test_generator.filenames"
   ]
  },
  {
   "cell_type": "code",
   "execution_count": null,
   "id": "21deef38",
   "metadata": {
    "execution": {
     "iopub.execute_input": "2023-03-17T17:05:41.342440Z",
     "iopub.status.busy": "2023-03-17T17:05:41.341571Z",
     "iopub.status.idle": "2023-03-17T17:05:41.360376Z",
     "shell.execute_reply": "2023-03-17T17:05:41.359319Z",
     "shell.execute_reply.started": "2023-03-17T17:05:41.342389Z"
    },
    "papermill": {
     "duration": null,
     "end_time": null,
     "exception": null,
     "start_time": null,
     "status": "pending"
    },
    "tags": []
   },
   "outputs": [],
   "source": [
    "val_df = pd.DataFrame()\n",
    "val_df['filename'] = filenames\n",
    "val_df['actual'] = test_generator.classes\n",
    "val_df['predicted'] = y_pred\n",
    "val_df['actual'] = val_df['actual'].apply(lambda x: indices[x])\n",
    "val_df['predicted'] = val_df['predicted'].apply(lambda x: indices[x])\n",
    "val_df.loc[val_df['actual']==val_df['predicted'],'Same'] = True\n",
    "val_df.loc[val_df['actual']!=val_df['predicted'],'Same'] = False"
   ]
  },
  {
   "cell_type": "code",
   "execution_count": null,
   "id": "1230d04e",
   "metadata": {
    "execution": {
     "iopub.execute_input": "2023-03-17T17:05:43.024633Z",
     "iopub.status.busy": "2023-03-17T17:05:43.024284Z",
     "iopub.status.idle": "2023-03-17T17:05:43.032922Z",
     "shell.execute_reply": "2023-03-17T17:05:43.031980Z",
     "shell.execute_reply.started": "2023-03-17T17:05:43.024604Z"
    },
    "papermill": {
     "duration": null,
     "end_time": null,
     "exception": null,
     "start_time": null,
     "status": "pending"
    },
    "tags": []
   },
   "outputs": [],
   "source": [
    "from tensorflow.keras.preprocessing.image import ImageDataGenerator, array_to_img, img_to_array, load_img\n",
    "val_df = val_df.sample(frac=1).reset_index(drop=True)"
   ]
  },
  {
   "cell_type": "code",
   "execution_count": null,
   "id": "8935bf36",
   "metadata": {
    "execution": {
     "iopub.execute_input": "2023-03-17T17:12:27.929596Z",
     "iopub.status.busy": "2023-03-17T17:12:27.929216Z",
     "iopub.status.idle": "2023-03-17T17:12:27.944259Z",
     "shell.execute_reply": "2023-03-17T17:12:27.943104Z",
     "shell.execute_reply.started": "2023-03-17T17:12:27.929566Z"
    },
    "papermill": {
     "duration": null,
     "end_time": null,
     "exception": null,
     "start_time": null,
     "status": "pending"
    },
    "tags": []
   },
   "outputs": [],
   "source": [
    "val_df.head(10)"
   ]
  },
  {
   "cell_type": "code",
   "execution_count": null,
   "id": "f00b33fa",
   "metadata": {
    "execution": {
     "iopub.execute_input": "2023-03-17T17:05:48.637321Z",
     "iopub.status.busy": "2023-03-17T17:05:48.636960Z",
     "iopub.status.idle": "2023-03-17T17:05:48.645948Z",
     "shell.execute_reply": "2023-03-17T17:05:48.644805Z",
     "shell.execute_reply.started": "2023-03-17T17:05:48.637290Z"
    },
    "papermill": {
     "duration": null,
     "end_time": null,
     "exception": null,
     "start_time": null,
     "status": "pending"
    },
    "tags": []
   },
   "outputs": [],
   "source": [
    "def readImage(path):\n",
    "    img = load_img(path,color_mode='rgb',target_size=(224,224))\n",
    "    img = img_to_array(img)\n",
    "    img = img/255.\n",
    "    \n",
    "    return img\n",
    "\n",
    "def display_images(temp_df):\n",
    "    temp_df = temp_df.reset_index(drop=True)\n",
    "    plt.figure(figsize = (25 , 25))\n",
    "    n = 0\n",
    "    for i in range(3):\n",
    "        n+=1\n",
    "        plt.subplot(3 , 3, n)\n",
    "        plt.subplots_adjust(hspace = 0.5 , wspace = 0.3)\n",
    "        image = readImage(f\"/kaggle/input/flamedataset/train/{temp_df.filename[i]}\")\n",
    "        plt.imshow(image)\n",
    "        plt.title(f'A: {temp_df.actual[i]} P: {temp_df.predicted[i]}')"
   ]
  },
  {
   "cell_type": "code",
   "execution_count": null,
   "id": "edff2e57",
   "metadata": {
    "execution": {
     "iopub.execute_input": "2023-03-17T17:05:51.400873Z",
     "iopub.status.busy": "2023-03-17T17:05:51.400489Z",
     "iopub.status.idle": "2023-03-17T17:05:51.409295Z",
     "shell.execute_reply": "2023-03-17T17:05:51.408016Z",
     "shell.execute_reply.started": "2023-03-17T17:05:51.400821Z"
    },
    "papermill": {
     "duration": null,
     "end_time": null,
     "exception": null,
     "start_time": null,
     "status": "pending"
    },
    "tags": []
   },
   "outputs": [],
   "source": [
    "from tensorflow.keras.models import Sequential, Model\n",
    "import matplotlib.cm as cm\n",
    "\n",
    "def make_gradcam_heatmap(img_array, model1, pred_index=None):\n",
    "    \n",
    "    grad_model = Model(inputs=model1.inputs, outputs=[model1.get_layer(\"conv2d_15\").output, model1.output]) #model1.get_layer(\"conv2d_4\").output #model1.layers[-17].output\n",
    "\n",
    "    with tf.GradientTape() as tape:\n",
    "        last_conv_layer_output, preds = grad_model(img_array)\n",
    "        if pred_index is None:\n",
    "            pred_index = tf.argmax(preds[0])\n",
    "        class_channel = preds[:, pred_index]\n",
    "\n",
    "    grads = tape.gradient(class_channel, last_conv_layer_output)\n",
    "\n",
    "    pooled_grads = tf.reduce_mean(grads, axis=(0, 1, 2))\n",
    "\n",
    "    last_conv_layer_output = last_conv_layer_output[0]\n",
    "    heatmap = last_conv_layer_output @ pooled_grads[..., tf.newaxis]\n",
    "    heatmap = tf.squeeze(heatmap)\n",
    "\n",
    "    heatmap = tf.maximum(heatmap, 0) / tf.math.reduce_max(heatmap)\n",
    "    return heatmap.numpy(), preds "
   ]
  },
  {
   "cell_type": "code",
   "execution_count": null,
   "id": "ea8020ed",
   "metadata": {
    "execution": {
     "iopub.execute_input": "2023-03-17T17:05:53.278925Z",
     "iopub.status.busy": "2023-03-17T17:05:53.278548Z",
     "iopub.status.idle": "2023-03-17T17:05:53.287085Z",
     "shell.execute_reply": "2023-03-17T17:05:53.286002Z",
     "shell.execute_reply.started": "2023-03-17T17:05:53.278892Z"
    },
    "papermill": {
     "duration": null,
     "end_time": null,
     "exception": null,
     "start_time": null,
     "status": "pending"
    },
    "tags": []
   },
   "outputs": [],
   "source": [
    "def gradCAMImage(image):\n",
    "    path = f\"/kaggle/input/flamedataset/train/{image}\"\n",
    "    img = readImage(path)\n",
    "    img = np.expand_dims(img,axis=0)\n",
    "    heatmap,preds = make_gradcam_heatmap(img,model)\n",
    "\n",
    "    img = load_img(path)\n",
    "    img = img_to_array(img)\n",
    "    heatmap = np.uint8(255 * heatmap)\n",
    "\n",
    "    # Use jet colormap to colorize heatmap\n",
    "    jet = cm.get_cmap(\"jet\")\n",
    "\n",
    "    # Use RGB values of the colormap\n",
    "    jet_colors = jet(np.arange(256))[:, :3]\n",
    "    jet_heatmap = jet_colors[heatmap]\n",
    "\n",
    "    # Create an image with RGB colorized heatmap\n",
    "    jet_heatmap = tf.keras.preprocessing.image.array_to_img(jet_heatmap)\n",
    "    jet_heatmap = jet_heatmap.resize((img.shape[1], img.shape[0]))\n",
    "    jet_heatmap = tf.keras.preprocessing.image.img_to_array(jet_heatmap)\n",
    "\n",
    "    # Superimpose the heatmap on original image\n",
    "    superimposed_img = jet_heatmap * 0.8 + img\n",
    "    # superimposed_img = 0.8 + img\n",
    "    superimposed_img = tf.keras.preprocessing.image.array_to_img(superimposed_img)\n",
    "    \n",
    "    return superimposed_img"
   ]
  },
  {
   "cell_type": "code",
   "execution_count": null,
   "id": "5f774568",
   "metadata": {
    "execution": {
     "iopub.execute_input": "2023-03-17T17:05:55.695276Z",
     "iopub.status.busy": "2023-03-17T17:05:55.694571Z",
     "iopub.status.idle": "2023-03-17T17:05:55.701376Z",
     "shell.execute_reply": "2023-03-17T17:05:55.700282Z",
     "shell.execute_reply.started": "2023-03-17T17:05:55.695237Z"
    },
    "papermill": {
     "duration": null,
     "end_time": null,
     "exception": null,
     "start_time": null,
     "status": "pending"
    },
    "tags": []
   },
   "outputs": [],
   "source": [
    "def gradcam_of_images(correct_class):\n",
    "    grad_images = []\n",
    "    title = []\n",
    "    temp_df = val_df[val_df['Same']==correct_class]\n",
    "    temp_df = temp_df.reset_index(drop=True)\n",
    "    for i in range(15):\n",
    "        image = temp_df.filename[i]\n",
    "        grad_image = gradCAMImage(image)\n",
    "        grad_images.append(grad_image)\n",
    "        title.append(f\"A: {temp_df.actual[i]} P: {temp_df.predicted[i]}\")\n",
    "\n",
    "    return grad_images, title"
   ]
  },
  {
   "cell_type": "code",
   "execution_count": null,
   "id": "2fe85aaf",
   "metadata": {
    "execution": {
     "iopub.execute_input": "2023-03-17T17:05:57.597515Z",
     "iopub.status.busy": "2023-03-17T17:05:57.596685Z",
     "iopub.status.idle": "2023-03-17T17:05:59.134005Z",
     "shell.execute_reply": "2023-03-17T17:05:59.132595Z",
     "shell.execute_reply.started": "2023-03-17T17:05:57.597473Z"
    },
    "papermill": {
     "duration": null,
     "end_time": null,
     "exception": null,
     "start_time": null,
     "status": "pending"
    },
    "tags": []
   },
   "outputs": [],
   "source": [
    "correctly_classified, c_titles = gradcam_of_images(correct_class=True)\n",
    "misclassified, m_titles = gradcam_of_images(correct_class=False)"
   ]
  },
  {
   "cell_type": "code",
   "execution_count": null,
   "id": "c580a8cf",
   "metadata": {
    "execution": {
     "iopub.execute_input": "2023-03-17T17:06:00.928717Z",
     "iopub.status.busy": "2023-03-17T17:06:00.928365Z",
     "iopub.status.idle": "2023-03-17T17:06:00.934757Z",
     "shell.execute_reply": "2023-03-17T17:06:00.933795Z",
     "shell.execute_reply.started": "2023-03-17T17:06:00.928687Z"
    },
    "papermill": {
     "duration": null,
     "end_time": null,
     "exception": null,
     "start_time": null,
     "status": "pending"
    },
    "tags": []
   },
   "outputs": [],
   "source": [
    "def display_heatmaps(classified_images,titles):\n",
    "    plt.figure(figsize = (25 ,25))\n",
    "    n = 0\n",
    "    for i in range(3):\n",
    "        n+=1\n",
    "        plt.subplot(3 ,3 , n)\n",
    "        plt.subplots_adjust(hspace = 0.3 , wspace = 0.3)\n",
    "        plt.imshow(classified_images[i])\n",
    "        plt.title(titles[i])\n",
    "#         plt.imshow(val_df[val_df['Same']==True])\n",
    "    plt.show()"
   ]
  },
  {
   "cell_type": "code",
   "execution_count": null,
   "id": "ae3e3184",
   "metadata": {
    "execution": {
     "iopub.execute_input": "2023-03-17T17:06:02.998888Z",
     "iopub.status.busy": "2023-03-17T17:06:02.998160Z",
     "iopub.status.idle": "2023-03-17T17:06:04.033045Z",
     "shell.execute_reply": "2023-03-17T17:06:04.031809Z",
     "shell.execute_reply.started": "2023-03-17T17:06:02.998826Z"
    },
    "papermill": {
     "duration": null,
     "end_time": null,
     "exception": null,
     "start_time": null,
     "status": "pending"
    },
    "tags": []
   },
   "outputs": [],
   "source": [
    "display_images(val_df[val_df['Same']==True])"
   ]
  },
  {
   "cell_type": "code",
   "execution_count": null,
   "id": "284e0b7b",
   "metadata": {
    "execution": {
     "iopub.execute_input": "2023-03-17T17:06:09.126642Z",
     "iopub.status.busy": "2023-03-17T17:06:09.126281Z",
     "iopub.status.idle": "2023-03-17T17:06:10.321615Z",
     "shell.execute_reply": "2023-03-17T17:06:10.320732Z",
     "shell.execute_reply.started": "2023-03-17T17:06:09.126611Z"
    },
    "papermill": {
     "duration": null,
     "end_time": null,
     "exception": null,
     "start_time": null,
     "status": "pending"
    },
    "tags": []
   },
   "outputs": [],
   "source": [
    "display_heatmaps(correctly_classified,c_titles)"
   ]
  },
  {
   "cell_type": "code",
   "execution_count": null,
   "id": "63c5252c",
   "metadata": {
    "execution": {
     "iopub.execute_input": "2023-03-17T17:09:49.642161Z",
     "iopub.status.busy": "2023-03-17T17:09:49.641708Z",
     "iopub.status.idle": "2023-03-17T17:09:50.748729Z",
     "shell.execute_reply": "2023-03-17T17:09:50.747893Z",
     "shell.execute_reply.started": "2023-03-17T17:09:49.642123Z"
    },
    "papermill": {
     "duration": null,
     "end_time": null,
     "exception": null,
     "start_time": null,
     "status": "pending"
    },
    "tags": []
   },
   "outputs": [],
   "source": [
    "display_images(val_df[val_df['Same']!=True])"
   ]
  },
  {
   "cell_type": "code",
   "execution_count": null,
   "id": "1f75cae8",
   "metadata": {
    "execution": {
     "iopub.execute_input": "2023-03-17T17:09:54.786334Z",
     "iopub.status.busy": "2023-03-17T17:09:54.785975Z",
     "iopub.status.idle": "2023-03-17T17:09:55.824098Z",
     "shell.execute_reply": "2023-03-17T17:09:55.822503Z",
     "shell.execute_reply.started": "2023-03-17T17:09:54.786303Z"
    },
    "papermill": {
     "duration": null,
     "end_time": null,
     "exception": null,
     "start_time": null,
     "status": "pending"
    },
    "tags": []
   },
   "outputs": [],
   "source": [
    "display_heatmaps(misclassified,m_titles)"
   ]
  },
  {
   "cell_type": "markdown",
   "id": "1d80ab18",
   "metadata": {
    "papermill": {
     "duration": null,
     "end_time": null,
     "exception": null,
     "start_time": null,
     "status": "pending"
    },
    "tags": []
   },
   "source": [
    "# ***LIME***"
   ]
  },
  {
   "cell_type": "code",
   "execution_count": null,
   "id": "a1521516",
   "metadata": {
    "papermill": {
     "duration": null,
     "end_time": null,
     "exception": null,
     "start_time": null,
     "status": "pending"
    },
    "tags": []
   },
   "outputs": [],
   "source": [
    "pip install lime"
   ]
  },
  {
   "cell_type": "code",
   "execution_count": null,
   "id": "76aa7244",
   "metadata": {
    "papermill": {
     "duration": null,
     "end_time": null,
     "exception": null,
     "start_time": null,
     "status": "pending"
    },
    "tags": []
   },
   "outputs": [],
   "source": [
    "pip install scikit-image"
   ]
  },
  {
   "cell_type": "code",
   "execution_count": null,
   "id": "c229394d",
   "metadata": {
    "execution": {
     "iopub.execute_input": "2023-03-17T17:12:20.517803Z",
     "iopub.status.busy": "2023-03-17T17:12:20.517398Z",
     "iopub.status.idle": "2023-03-17T17:12:20.673048Z",
     "shell.execute_reply": "2023-03-17T17:12:20.671890Z",
     "shell.execute_reply.started": "2023-03-17T17:12:20.517769Z"
    },
    "papermill": {
     "duration": null,
     "end_time": null,
     "exception": null,
     "start_time": null,
     "status": "pending"
    },
    "tags": []
   },
   "outputs": [],
   "source": [
    "import lime\n",
    "import lime.lime_tabular\n",
    "import skimage\n",
    "import numpy as np"
   ]
  },
  {
   "cell_type": "code",
   "execution_count": null,
   "id": "dc9961c1",
   "metadata": {
    "execution": {
     "iopub.execute_input": "2023-03-17T17:13:52.638662Z",
     "iopub.status.busy": "2023-03-17T17:13:52.638298Z",
     "iopub.status.idle": "2023-03-17T17:13:52.662622Z",
     "shell.execute_reply": "2023-03-17T17:13:52.661641Z",
     "shell.execute_reply.started": "2023-03-17T17:13:52.638631Z"
    },
    "papermill": {
     "duration": null,
     "end_time": null,
     "exception": null,
     "start_time": null,
     "status": "pending"
    },
    "tags": []
   },
   "outputs": [],
   "source": [
    "from skimage import io\n",
    "from tensorflow.keras.preprocessing import image\n",
    "\n",
    "# url = '/kaggle/input/flamedataset/train/Fire/resized_frame0.jpg'\n",
    "# url = '/kaggle/input/flamedataset/train/Fire/resized_frame11264.jpg'\n",
    "url = '/kaggle/input/flamedataset/train/Fire/resized_frame7045.jpg'\n",
    "\n",
    "def read_and_transform_img(url):\n",
    "\n",
    "    img = skimage.io.imread(url)\n",
    "    img = skimage.transform.resize(img, (224,224))\n",
    "    \n",
    "    img = image.img_to_array(img)\n",
    "    img = np.expand_dims(img, axis=0)\n",
    "\n",
    "    return img\n",
    "\n",
    "images = read_and_transform_img(url)"
   ]
  },
  {
   "cell_type": "code",
   "execution_count": null,
   "id": "6cfcf262",
   "metadata": {
    "execution": {
     "iopub.execute_input": "2023-03-17T17:13:54.628830Z",
     "iopub.status.busy": "2023-03-17T17:13:54.628467Z",
     "iopub.status.idle": "2023-03-17T17:13:54.634598Z",
     "shell.execute_reply": "2023-03-17T17:13:54.633615Z",
     "shell.execute_reply.started": "2023-03-17T17:13:54.628798Z"
    },
    "papermill": {
     "duration": null,
     "end_time": null,
     "exception": null,
     "start_time": null,
     "status": "pending"
    },
    "tags": []
   },
   "outputs": [],
   "source": [
    "# LIME has one explainer for all the models\n",
    "from lime import lime_image\n",
    "explainer = lime_image.LimeImageExplainer(random_state=42)"
   ]
  },
  {
   "cell_type": "code",
   "execution_count": null,
   "id": "f64bb8b0",
   "metadata": {
    "papermill": {
     "duration": null,
     "end_time": null,
     "exception": null,
     "start_time": null,
     "status": "pending"
    },
    "tags": []
   },
   "outputs": [],
   "source": [
    "explanation = explainer.explain_instance(images[0].astype('double'), model.predict,  \n",
    "                                         top_labels=5, hide_color=0, num_samples=1000)"
   ]
  },
  {
   "cell_type": "code",
   "execution_count": null,
   "id": "ba001b38",
   "metadata": {
    "execution": {
     "iopub.execute_input": "2023-03-17T17:14:49.861814Z",
     "iopub.status.busy": "2023-03-17T17:14:49.860747Z",
     "iopub.status.idle": "2023-03-17T17:14:50.334650Z",
     "shell.execute_reply": "2023-03-17T17:14:50.333732Z",
     "shell.execute_reply.started": "2023-03-17T17:14:49.861774Z"
    },
    "papermill": {
     "duration": null,
     "end_time": null,
     "exception": null,
     "start_time": null,
     "status": "pending"
    },
    "tags": []
   },
   "outputs": [],
   "source": [
    "from skimage.segmentation import mark_boundaries\n",
    "import matplotlib.pyplot as plt\n",
    "import matplotlib.image as mpimg\n",
    "\n",
    "temp_1, mask_1 = explanation.get_image_and_mask(explanation.top_labels[0], positive_only=True, num_features=5, hide_rest=True)\n",
    "temp_2, mask_2 = explanation.get_image_and_mask(explanation.top_labels[0], positive_only=False, num_features=10, hide_rest=False)\n",
    "\n",
    "fig, (ax1, ax2) = plt.subplots(1, 2, figsize=(15,15))\n",
    "ax1.imshow(mark_boundaries(temp_1/2+0.5, mask_1))\n",
    "ax2.imshow(mark_boundaries(temp_2/2, mask_2))\n",
    "ax1.axis('off')\n",
    "ax2.axis('off')"
   ]
  },
  {
   "cell_type": "code",
   "execution_count": null,
   "id": "cc914360",
   "metadata": {
    "execution": {
     "iopub.execute_input": "2023-03-17T17:14:57.316340Z",
     "iopub.status.busy": "2023-03-17T17:14:57.315098Z",
     "iopub.status.idle": "2023-03-17T17:14:57.614794Z",
     "shell.execute_reply": "2023-03-17T17:14:57.613975Z",
     "shell.execute_reply.started": "2023-03-17T17:14:57.316287Z"
    },
    "papermill": {
     "duration": null,
     "end_time": null,
     "exception": null,
     "start_time": null,
     "status": "pending"
    },
    "tags": []
   },
   "outputs": [],
   "source": [
    "from matplotlib import pyplot as plt\n",
    "from matplotlib import image as mpimg\n",
    "\n",
    "plt.title(\"Test Image\")\n",
    "plt.xlabel(\"X pixel scaling\")\n",
    "plt.ylabel(\"Y pixels scaling\")\n",
    "\n",
    "image = mpimg.imread(url)\n",
    "plt.imshow(image)\n",
    "plt.show()"
   ]
  },
  {
   "cell_type": "code",
   "execution_count": null,
   "id": "6bd51362",
   "metadata": {
    "papermill": {
     "duration": null,
     "end_time": null,
     "exception": null,
     "start_time": null,
     "status": "pending"
    },
    "tags": []
   },
   "outputs": [],
   "source": [
    "import tensorflow as tf\n",
    "import numpy as np\n",
    "import cv2\n",
    "\n",
    "# Define CAM class\n",
    "class CAM:\n",
    "    def __init__(self, model, last_conv_layer_name):\n",
    "        self.model = model\n",
    "        self.last_conv_layer_name = last_conv_layer_name\n",
    "        self.grad_model = tf.keras.models.Model([self.model.inputs], [self.model.get_layer(self.last_conv_layer_name).output, self.model.output])\n",
    "        \n",
    "    def compute_heatmap(self, image):\n",
    "        with tf.GradientTape() as tape:\n",
    "            conv_output, predictions = self.grad_model(image)\n",
    "            class_idx = tf.argmax(predictions[0])\n",
    "            loss = predictions[:, class_idx]\n",
    "            \n",
    "        output = conv_output[0]\n",
    "        grads = tape.gradient(loss, conv_output)[0]\n",
    "        weights = tf.reduce_mean(grads, axis=(0, 1))\n",
    "        heatmap = tf.reduce_sum(tf.multiply(weights, output), axis=-1)\n",
    "        heatmap = np.maximum(heatmap, 0)\n",
    "        heatmap /= np.max(heatmap)\n",
    "        return heatmap\n",
    "\n",
    "# Load input image\n",
    "image = cv2.imread('/kaggle/input/flamedataset/train/Fire/resized_frame7045.jpg')\n",
    "image = cv2.cvtColor(image, cv2.COLOR_BGR2RGB)\n",
    "image = cv2.resize(image, (224, 224))\n",
    "image = img_to_array(image)\n",
    "image = np.expand_dims(image, axis=0)\n",
    "\n",
    "\n",
    "# Define CAM model\n",
    "cam_model = CAM(model, 'conv2d_15')\n",
    "\n",
    "# Compute heatmap\n",
    "heatmap = cam_model.compute_heatmap(image)\n",
    "\n",
    "# Rescale heatmap to the range [0, 255]\n",
    "heatmap = heatmap * 255.0\n",
    "heatmap = cv2.resize(heatmap, (224, 224))\n",
    "\n",
    "# Apply colormap to heatmap\n",
    "heatmap = cv2.applyColorMap(np.uint8(heatmap), cv2.COLORMAP_JET)\n",
    "\n",
    "# Overlay heatmap on input image\n",
    "result = heatmap * 0.5 + image[0] * 0.5\n",
    "result = tf.keras.preprocessing.image.array_to_img(result)\n",
    "\n",
    "from matplotlib import pyplot as plt\n",
    "from matplotlib import image as mpimg\n",
    "\n",
    "plt.title(\"Test Image\")\n",
    "plt.xlabel(\"X pixel scaling\")\n",
    "plt.ylabel(\"Y pixels scaling\")\n",
    "\n",
    "plt.imshow(result)\n",
    "plt.show()"
   ]
  }
 ],
 "metadata": {
  "kernelspec": {
   "display_name": "Python 3 (ipykernel)",
   "language": "python",
   "name": "python3"
  },
  "language_info": {
   "codemirror_mode": {
    "name": "ipython",
    "version": 3
   },
   "file_extension": ".py",
   "mimetype": "text/x-python",
   "name": "python",
   "nbconvert_exporter": "python",
   "pygments_lexer": "ipython3",
   "version": "3.9.13"
  },
  "papermill": {
   "default_parameters": {},
   "duration": null,
   "end_time": null,
   "environment_variables": {},
   "exception": null,
   "input_path": "__notebook__.ipynb",
   "output_path": "__notebook__.ipynb",
   "parameters": {},
   "start_time": "2023-03-20T17:37:14.275743",
   "version": "2.3.4"
  }
 },
 "nbformat": 4,
 "nbformat_minor": 5
}
