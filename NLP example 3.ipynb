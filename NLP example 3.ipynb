{
 "cells": [
  {
   "cell_type": "code",
   "execution_count": 1,
   "id": "9c382e56",
   "metadata": {},
   "outputs": [
    {
     "name": "stdout",
     "output_type": "stream",
     "text": [
      "Sentence 1: I love this product! It's amazing.\n",
      "Sentiment: Positive\n",
      "Sentiment Scores: {'neg': 0.0, 'neu': 0.266, 'pos': 0.734, 'compound': 0.8516}\n",
      "\n",
      "\n",
      "Sentence 2: This movie was terrible. I hated it.\n",
      "Sentiment: Negative\n",
      "Sentiment Scores: {'neg': 0.646, 'neu': 0.354, 'pos': 0.0, 'compound': -0.8074}\n"
     ]
    },
    {
     "name": "stderr",
     "output_type": "stream",
     "text": [
      "[nltk_data] Downloading package vader_lexicon to C:\\Users\\Shardha\n",
      "[nltk_data]     Nand\\AppData\\Roaming\\nltk_data...\n",
      "[nltk_data]   Package vader_lexicon is already up-to-date!\n"
     ]
    }
   ],
   "source": [
    "import nltk\n",
    "from nltk.sentiment import SentimentIntensityAnalyzer\n",
    "\n",
    "# Download necessary resources (VADER lexicon)\n",
    "nltk.download('vader_lexicon')\n",
    "\n",
    "def analyze_sentiment(sentence):\n",
    "    # Create a SentimentIntensityAnalyzer instance\n",
    "    sia = SentimentIntensityAnalyzer()\n",
    "\n",
    "    # Analyze sentiment\n",
    "    sentiment_scores = sia.polarity_scores(sentence)\n",
    "\n",
    "    # Determine sentiment based on the compound score\n",
    "    if sentiment_scores['compound'] >= 0.05:\n",
    "        sentiment = 'Positive'\n",
    "    elif sentiment_scores['compound'] <= -0.05:\n",
    "        sentiment = 'Negative'\n",
    "    else:\n",
    "        sentiment = 'Neutral'\n",
    "\n",
    "    return sentiment, sentiment_scores\n",
    "\n",
    "if __name__ == \"__main__\":\n",
    "    # Example sentences for sentiment analysis\n",
    "    sentence1 = \"I love this product! It's amazing.\"\n",
    "    sentence2 = \"This movie was terrible. I hated it.\"\n",
    "\n",
    "    # Analyze sentiment for each sentence\n",
    "    sentiment1, scores1 = analyze_sentiment(sentence1)\n",
    "    sentiment2, scores2 = analyze_sentiment(sentence2)\n",
    "\n",
    "    # Display results\n",
    "    print(f\"Sentence 1: {sentence1}\")\n",
    "    print(f\"Sentiment: {sentiment1}\")\n",
    "    print(f\"Sentiment Scores: {scores1}\")\n",
    "\n",
    "    print(\"\\n\")\n",
    "\n",
    "    print(f\"Sentence 2: {sentence2}\")\n",
    "    print(f\"Sentiment: {sentiment2}\")\n",
    "    print(f\"Sentiment Scores: {scores2}\")\n"
   ]
  },
  {
   "cell_type": "code",
   "execution_count": null,
   "id": "6c02f9f3",
   "metadata": {},
   "outputs": [],
   "source": []
  },
  {
   "cell_type": "code",
   "execution_count": null,
   "id": "2a5db5dc",
   "metadata": {},
   "outputs": [],
   "source": []
  }
 ],
 "metadata": {
  "kernelspec": {
   "display_name": "Python 3 (ipykernel)",
   "language": "python",
   "name": "python3"
  },
  "language_info": {
   "codemirror_mode": {
    "name": "ipython",
    "version": 3
   },
   "file_extension": ".py",
   "mimetype": "text/x-python",
   "name": "python",
   "nbconvert_exporter": "python",
   "pygments_lexer": "ipython3",
   "version": "3.10.0"
  }
 },
 "nbformat": 4,
 "nbformat_minor": 5
}
