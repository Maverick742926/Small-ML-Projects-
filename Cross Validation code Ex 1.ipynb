{
 "cells": [
  {
   "cell_type": "code",
   "execution_count": 1,
   "id": "bb705a5c",
   "metadata": {},
   "outputs": [
    {
     "name": "stdout",
     "output_type": "stream",
     "text": [
      "Random Forest Cross-validation scores: [0.88  0.915 0.92  0.93  0.905]\n",
      "Mean Random Forest CV Score: 0.9099999999999999\n",
      "Standard Deviation of Random Forest CV Scores: 0.017029386365926418\n",
      "\n",
      "\n",
      "Decision Tree Cross-validation scores: [0.84  0.905 0.865 0.895 0.89 ]\n",
      "Mean Decision Tree CV Score: 0.8790000000000001\n",
      "Standard Deviation of Decision Tree CV Scores: 0.023537204591879662\n",
      "\n",
      "\n",
      "KNN Cross-validation scores: [0.8   0.87  0.855 0.855 0.865]\n",
      "Mean KNN CV Score: 0.849\n",
      "Standard Deviation of KNN CV Scores: 0.025179356624028322\n",
      "\n",
      "\n"
     ]
    }
   ],
   "source": [
    "import numpy as np\n",
    "from sklearn.model_selection import cross_val_score, KFold\n",
    "from sklearn.ensemble import RandomForestClassifier\n",
    "from sklearn.tree import DecisionTreeClassifier\n",
    "from sklearn.neighbors import KNeighborsClassifier\n",
    "from sklearn.datasets import make_classification\n",
    "\n",
    "# Generate a hypothetical dataset\n",
    "X, y = make_classification(n_samples=1000, n_features=10, n_classes=2, random_state=42)\n",
    "\n",
    "# Define models\n",
    "models = {\n",
    "    'Random Forest': RandomForestClassifier(n_estimators=100, random_state=42),\n",
    "    'Decision Tree': DecisionTreeClassifier(random_state=42),\n",
    "    'KNN': KNeighborsClassifier(n_neighbors=5)\n",
    "}\n",
    "\n",
    "# Choose the number of folds for cross-validation\n",
    "num_folds = 5\n",
    "\n",
    "# Create a cross-validation object (KFold)\n",
    "kf = KFold(n_splits=num_folds, shuffle=True, random_state=42)\n",
    "\n",
    "# Perform cross-validation for each model\n",
    "for model_name, model in models.items():\n",
    "    cv_scores = cross_val_score(model, X, y, cv=kf, scoring='accuracy')\n",
    "    \n",
    "    # Print the cross-validation scores for each fold\n",
    "    print(f\"{model_name} Cross-validation scores:\", cv_scores)\n",
    "    \n",
    "    # Print the mean and standard deviation of the cross-validation scores\n",
    "    print(f\"Mean {model_name} CV Score:\", np.mean(cv_scores))\n",
    "    print(f\"Standard Deviation of {model_name} CV Scores:\", np.std(cv_scores))\n",
    "    print(\"\\n\")\n"
   ]
  },
  {
   "cell_type": "code",
   "execution_count": null,
   "id": "bade015c",
   "metadata": {},
   "outputs": [],
   "source": []
  }
 ],
 "metadata": {
  "kernelspec": {
   "display_name": "Python 3 (ipykernel)",
   "language": "python",
   "name": "python3"
  },
  "language_info": {
   "codemirror_mode": {
    "name": "ipython",
    "version": 3
   },
   "file_extension": ".py",
   "mimetype": "text/x-python",
   "name": "python",
   "nbconvert_exporter": "python",
   "pygments_lexer": "ipython3",
   "version": "3.10.0"
  }
 },
 "nbformat": 4,
 "nbformat_minor": 5
}
