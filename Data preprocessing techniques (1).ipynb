{
 "cells": [
  {
   "cell_type": "code",
   "execution_count": null,
   "id": "01a437f2",
   "metadata": {},
   "outputs": [],
   "source": [
    "# https://www.youtube.com/watch?v=LF79PaCjeFU&list=PLTmQbi1PYZ_EnBmO1-E0Z81ArnE-zSR1a"
   ]
  },
  {
   "cell_type": "markdown",
   "id": "4a20fc80",
   "metadata": {},
   "source": [
    "#### Data Preprocessing tutorial ###"
   ]
  },
  {
   "cell_type": "code",
   "execution_count": null,
   "id": "613b915d",
   "metadata": {},
   "outputs": [],
   "source": [
    "import numpy as np\n",
    "import pandas as pd\n",
    "from sklearn.impute import SimpleImputer\n",
    "from sklearn.preprocessing import LabelEncoder"
   ]
  },
  {
   "cell_type": "markdown",
   "id": "b240df9a",
   "metadata": {},
   "source": [
    "#### Load Dataset"
   ]
  },
  {
   "cell_type": "code",
   "execution_count": null,
   "id": "bfd4135a",
   "metadata": {},
   "outputs": [],
   "source": [
    "dataset = pd.read_csv('Desktop\\EmployData.csv')"
   ]
  },
  {
   "cell_type": "markdown",
   "id": "8d917c84",
   "metadata": {},
   "source": [
    "##### create depedent and indepedent variable vetor"
   ]
  },
  {
   "cell_type": "code",
   "execution_count": null,
   "id": "392e6102",
   "metadata": {},
   "outputs": [],
   "source": [
    "x = dataset.iloc[:,:-1].values"
   ]
  },
  {
   "cell_type": "code",
   "execution_count": null,
   "id": "edcb9c82",
   "metadata": {},
   "outputs": [],
   "source": [
    "print(x)"
   ]
  },
  {
   "cell_type": "code",
   "execution_count": null,
   "id": "b45b4b12",
   "metadata": {},
   "outputs": [],
   "source": [
    "y = dataset.iloc[:,-1].values"
   ]
  },
  {
   "cell_type": "code",
   "execution_count": null,
   "id": "d5d21872",
   "metadata": {},
   "outputs": [],
   "source": [
    "print(y)"
   ]
  },
  {
   "cell_type": "markdown",
   "id": "1dc5a715",
   "metadata": {},
   "source": [
    "##### handle missing values"
   ]
  },
  {
   "cell_type": "code",
   "execution_count": null,
   "id": "99cdbc9e",
   "metadata": {},
   "outputs": [],
   "source": [
    "print(dataset.isnull().sum())"
   ]
  },
  {
   "cell_type": "code",
   "execution_count": null,
   "id": "aa5fa137",
   "metadata": {},
   "outputs": [],
   "source": [
    "# dataset.dropna(inplace=True)\n",
    "# print(dataset)\n"
   ]
  },
  {
   "cell_type": "code",
   "execution_count": null,
   "id": "0592cb7f",
   "metadata": {},
   "outputs": [],
   "source": [
    "print(dataset)"
   ]
  },
  {
   "cell_type": "code",
   "execution_count": null,
   "id": "ed28f587",
   "metadata": {},
   "outputs": [],
   "source": [
    "# print(dataset.describe())"
   ]
  },
  {
   "cell_type": "code",
   "execution_count": null,
   "id": "e8ec357c",
   "metadata": {},
   "outputs": [],
   "source": [
    "from sklearn.impute import SimpleImputer"
   ]
  },
  {
   "cell_type": "code",
   "execution_count": null,
   "id": "0f43dd48",
   "metadata": {},
   "outputs": [],
   "source": [
    "imputer = SimpleImputer(missing_values=np.nan,strategy='mean')\n",
    "#imputer = SimpleImputer(missing_values=np.nan,strategy='median')\n",
    "#imputer = SimpleImputer(missing_values=np.nan,strategy='mode')\n",
    "#imputer = SimpleImputer(missing_values=np.nan,strategy='constant',fill_value=10000)"
   ]
  },
  {
   "cell_type": "code",
   "execution_count": null,
   "id": "13b955bf",
   "metadata": {},
   "outputs": [],
   "source": [
    "imputer.fit(x[:,1:3])"
   ]
  },
  {
   "cell_type": "code",
   "execution_count": null,
   "id": "4130c4f8",
   "metadata": {},
   "outputs": [],
   "source": [
    "x[:,1:3]=imputer.transform(x[:,1:3])"
   ]
  },
  {
   "cell_type": "code",
   "execution_count": null,
   "id": "063ead69",
   "metadata": {},
   "outputs": [],
   "source": [
    "# print(dataset.describe())"
   ]
  },
  {
   "cell_type": "code",
   "execution_count": null,
   "id": "55cd3519",
   "metadata": {},
   "outputs": [],
   "source": [
    "print(dataset.describe())\n",
    "print(x[:,1:3])"
   ]
  },
  {
   "cell_type": "markdown",
   "id": "2bde3f4f",
   "metadata": {},
   "source": [
    "##### Data encoding: handle/Encode Categorical data\n",
    "# One Hot Encoding"
   ]
  },
  {
   "cell_type": "code",
   "execution_count": null,
   "id": "7bd481b8",
   "metadata": {},
   "outputs": [],
   "source": [
    "from sklearn.compose import ColumnTransformer"
   ]
  },
  {
   "cell_type": "code",
   "execution_count": null,
   "id": "bb81a40e",
   "metadata": {},
   "outputs": [],
   "source": [
    "from sklearn.preprocessing import OneHotEncoder"
   ]
  },
  {
   "cell_type": "code",
   "execution_count": null,
   "id": "9562d5e0",
   "metadata": {},
   "outputs": [],
   "source": [
    "ct = ColumnTransformer(transformers=[('encoder',OneHotEncoder(),[0])],remainder=\"passthrough\")"
   ]
  },
  {
   "cell_type": "code",
   "execution_count": null,
   "id": "c06c85cd",
   "metadata": {},
   "outputs": [],
   "source": [
    "x = np.array(ct.fit_transform(x))"
   ]
  },
  {
   "cell_type": "code",
   "execution_count": null,
   "id": "e90b65fe",
   "metadata": {},
   "outputs": [],
   "source": [
    "print (x)"
   ]
  },
  {
   "cell_type": "markdown",
   "id": "5c9831a2",
   "metadata": {},
   "source": [
    "##### Label Encoding"
   ]
  },
  {
   "cell_type": "code",
   "execution_count": null,
   "id": "260e3690",
   "metadata": {},
   "outputs": [],
   "source": [
    "from sklearn.preprocessing import LabelEncoder                "
   ]
  },
  {
   "cell_type": "code",
   "execution_count": null,
   "id": "8613be1c",
   "metadata": {},
   "outputs": [],
   "source": [
    "le = LabelEncoder()"
   ]
  },
  {
   "cell_type": "code",
   "execution_count": null,
   "id": "73501f7a",
   "metadata": {},
   "outputs": [],
   "source": [
    "y= le.fit_transform(y)"
   ]
  },
  {
   "cell_type": "code",
   "execution_count": null,
   "id": "f887775e",
   "metadata": {},
   "outputs": [],
   "source": [
    "print(y)"
   ]
  },
  {
   "cell_type": "markdown",
   "id": "f8469dcd",
   "metadata": {},
   "source": [
    "##### split the dataset for training and testing"
   ]
  },
  {
   "cell_type": "code",
   "execution_count": null,
   "id": "afec24ca",
   "metadata": {},
   "outputs": [],
   "source": [
    "from sklearn.model_selection import train_test_split"
   ]
  },
  {
   "cell_type": "code",
   "execution_count": null,
   "id": "1f90a5ee",
   "metadata": {},
   "outputs": [],
   "source": [
    "x_train,x_test,y_train,y_test = train_test_split(x,y,test_size=0.25,random_state = 1)"
   ]
  },
  {
   "cell_type": "code",
   "execution_count": null,
   "id": "587e7e49",
   "metadata": {},
   "outputs": [],
   "source": [
    "print(x_train)"
   ]
  },
  {
   "cell_type": "code",
   "execution_count": null,
   "id": "39bf1589",
   "metadata": {},
   "outputs": [],
   "source": [
    "print(x_test)"
   ]
  },
  {
   "cell_type": "code",
   "execution_count": null,
   "id": "8ef3b3f2",
   "metadata": {
    "scrolled": false
   },
   "outputs": [],
   "source": [
    "print(y_train)"
   ]
  },
  {
   "cell_type": "code",
   "execution_count": null,
   "id": "cc9cdef2",
   "metadata": {},
   "outputs": [],
   "source": [
    "print(y_test)"
   ]
  },
  {
   "cell_type": "markdown",
   "id": "4b948cb2",
   "metadata": {},
   "source": [
    "#### feature scaling - Standarisation & Normalization"
   ]
  },
  {
   "cell_type": "code",
   "execution_count": null,
   "id": "49753896",
   "metadata": {},
   "outputs": [],
   "source": [
    "from sklearn.preprocessing import StandardScaler"
   ]
  },
  {
   "cell_type": "code",
   "execution_count": null,
   "id": "684b9710",
   "metadata": {},
   "outputs": [],
   "source": [
    "scaler =StandardScaler()"
   ]
  },
  {
   "cell_type": "code",
   "execution_count": null,
   "id": "c645b439",
   "metadata": {},
   "outputs": [],
   "source": [
    "x_train[:,4:]= scaler.fit_transform(x_train[:,4:])"
   ]
  },
  {
   "cell_type": "code",
   "execution_count": null,
   "id": "9b5c5873",
   "metadata": {},
   "outputs": [],
   "source": [
    "x_test[:,4:]= scaler.fit_transform(x_test[:,4:])"
   ]
  },
  {
   "cell_type": "code",
   "execution_count": null,
   "id": "2512fb50",
   "metadata": {},
   "outputs": [],
   "source": [
    "print(x_train)"
   ]
  },
  {
   "cell_type": "markdown",
   "id": "ef46df62",
   "metadata": {},
   "source": [
    "##### outliers"
   ]
  },
  {
   "cell_type": "code",
   "execution_count": null,
   "id": "21ad0fde",
   "metadata": {},
   "outputs": [],
   "source": [
    "print(x_test)"
   ]
  },
  {
   "cell_type": "code",
   "execution_count": null,
   "id": "334bef03",
   "metadata": {},
   "outputs": [],
   "source": [
    "import matplotlib.pyplot as plt"
   ]
  },
  {
   "cell_type": "code",
   "execution_count": null,
   "id": "70caff05",
   "metadata": {},
   "outputs": [],
   "source": [
    "%matplotlib inline"
   ]
  },
  {
   "cell_type": "code",
   "execution_count": null,
   "id": "b92c6d7e",
   "metadata": {},
   "outputs": [],
   "source": [
    "#define our dataset\n",
    "our_dataset = [11,10,12,14,12,15,14,13,15,102,12,14,12,108,12,11,14,13,15,10,15,12,10,14,13,15,10]"
   ]
  },
  {
   "cell_type": "code",
   "execution_count": null,
   "id": "2ad601c8",
   "metadata": {},
   "outputs": [],
   "source": [
    "plt.hist(our_dataset)"
   ]
  },
  {
   "cell_type": "markdown",
   "id": "a8f56338",
   "metadata": {},
   "source": [
    "##### Find and remove outliers"
   ]
  },
  {
   "cell_type": "code",
   "execution_count": null,
   "id": "17221204",
   "metadata": {},
   "outputs": [],
   "source": [
    "plt.hist(dataset['Age'],bins=15)"
   ]
  },
  {
   "cell_type": "code",
   "execution_count": null,
   "id": "90173df7",
   "metadata": {},
   "outputs": [],
   "source": [
    "# Quantile Method"
   ]
  },
  {
   "cell_type": "code",
   "execution_count": null,
   "id": "da0998a3",
   "metadata": {},
   "outputs": [],
   "source": [
    "lowerLimit = dataset['Age'].quantile(0.05) "
   ]
  },
  {
   "cell_type": "code",
   "execution_count": null,
   "id": "d934bdd9",
   "metadata": {},
   "outputs": [],
   "source": [
    "lowerLimit"
   ]
  },
  {
   "cell_type": "code",
   "execution_count": null,
   "id": "8330371d",
   "metadata": {},
   "outputs": [],
   "source": [
    "upperLimit = dataset['Age'].quantile(0.95)"
   ]
  },
  {
   "cell_type": "code",
   "execution_count": null,
   "id": "fc80caec",
   "metadata": {},
   "outputs": [],
   "source": [
    "upperLimit"
   ]
  }
 ],
 "metadata": {
  "kernelspec": {
   "display_name": "Python 3 (ipykernel)",
   "language": "python",
   "name": "python3"
  },
  "language_info": {
   "codemirror_mode": {
    "name": "ipython",
    "version": 3
   },
   "file_extension": ".py",
   "mimetype": "text/x-python",
   "name": "python",
   "nbconvert_exporter": "python",
   "pygments_lexer": "ipython3",
   "version": "3.10.0"
  }
 },
 "nbformat": 4,
 "nbformat_minor": 5
}
