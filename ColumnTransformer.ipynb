{
 "cells": [
  {
   "cell_type": "code",
   "execution_count": 1,
   "id": "ed8372e9",
   "metadata": {},
   "outputs": [
    {
     "name": "stdout",
     "output_type": "stream",
     "text": [
      "        Age    Income  Female  Male\n",
      "0 -0.677631 -0.697486     1.0   0.0\n",
      "1  0.451754  0.464991     0.0   1.0\n",
      "2 -1.355262 -1.278724     0.0   1.0\n",
      "3  1.581139  1.627467     0.0   1.0\n",
      "4  0.000000 -0.116248     1.0   0.0\n"
     ]
    }
   ],
   "source": [
    "import pandas as pd\n",
    "from sklearn.compose import ColumnTransformer\n",
    "from sklearn.preprocessing import StandardScaler, OneHotEncoder\n",
    "\n",
    "# Create a sample dataset\n",
    "data = {\n",
    "    'Age': [25, 30, 22, 35, 28],\n",
    "    'Gender': ['Female', 'Male', 'Male', 'Male', 'Female'],\n",
    "    'Income': [50000, 60000, 45000, 70000, 55000]\n",
    "}\n",
    "\n",
    "df = pd.DataFrame(data)\n",
    "\n",
    "# Define transformers for numerical and categorical columns\n",
    "numerical_transformer = StandardScaler()\n",
    "categorical_transformer = OneHotEncoder()\n",
    "\n",
    "# Create a ColumnTransformer\n",
    "preprocessor = ColumnTransformer(\n",
    "    transformers=[\n",
    "        ('num', numerical_transformer, ['Age', 'Income']),\n",
    "        ('cat', categorical_transformer, ['Gender']),\n",
    "    ],\n",
    "    remainder='passthrough'\n",
    ")\n",
    "\n",
    "# Apply the preprocessing to your dataset\n",
    "X_transformed = preprocessor.fit_transform(df)\n",
    "\n",
    "# Display the transformed data\n",
    "transformed_df = pd.DataFrame(X_transformed, columns=['Age', 'Income', 'Female', 'Male'])\n",
    "print(transformed_df)\n"
   ]
  },
  {
   "cell_type": "code",
   "execution_count": null,
   "id": "fa96c111",
   "metadata": {},
   "outputs": [],
   "source": []
  }
 ],
 "metadata": {
  "kernelspec": {
   "display_name": "Python 3 (ipykernel)",
   "language": "python",
   "name": "python3"
  },
  "language_info": {
   "codemirror_mode": {
    "name": "ipython",
    "version": 3
   },
   "file_extension": ".py",
   "mimetype": "text/x-python",
   "name": "python",
   "nbconvert_exporter": "python",
   "pygments_lexer": "ipython3",
   "version": "3.9.13"
  }
 },
 "nbformat": 4,
 "nbformat_minor": 5
}
