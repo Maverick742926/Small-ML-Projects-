{
 "cells": [
  {
   "cell_type": "code",
   "execution_count": 3,
   "id": "01a437f2",
   "metadata": {},
   "outputs": [],
   "source": [
    "# https://www.youtube.com/watch?v=LF79PaCjeFU&list=PLTmQbi1PYZ_EnBmO1-E0Z81ArnE-zSR1a"
   ]
  },
  {
   "cell_type": "markdown",
   "id": "4a20fc80",
   "metadata": {},
   "source": [
    "#### Data Preprocessing tutorial ###"
   ]
  },
  {
   "cell_type": "code",
   "execution_count": 1,
   "id": "613b915d",
   "metadata": {},
   "outputs": [],
   "source": [
    "import numpy as np\n",
    "import pandas as pd\n",
    "from sklearn.impute import SimpleImputer\n",
    "from sklearn.preprocessing import LabelEncoder"
   ]
  },
  {
   "cell_type": "markdown",
   "id": "b240df9a",
   "metadata": {},
   "source": [
    "#### Load Dataset"
   ]
  },
  {
   "cell_type": "code",
   "execution_count": 10,
   "id": "bfd4135a",
   "metadata": {},
   "outputs": [],
   "source": [
    "dataset = pd.read_csv('C:\\\\Users\\\\Shardha Nand\\\\Desktop\\\\EmployData.csv')"
   ]
  },
  {
   "cell_type": "markdown",
   "id": "8d917c84",
   "metadata": {},
   "source": [
    "##### create depedent and indepedent variable vetor"
   ]
  },
  {
   "cell_type": "code",
   "execution_count": 6,
   "id": "392e6102",
   "metadata": {},
   "outputs": [],
   "source": [
    "x = dataset.iloc[:,:-1].values\n",
    "# [:,:-1]: The [:,:] part specifies that you want to select all rows and \n",
    "# all columns. The [:-1] part specifies that you want to select all columns\n",
    "# except the last one."
   ]
  },
  {
   "cell_type": "code",
   "execution_count": 7,
   "id": "edcb9c82",
   "metadata": {},
   "outputs": [
    {
     "name": "stdout",
     "output_type": "stream",
     "text": [
      "[['Mumbai' 3.0 51000.0]\n",
      " ['Newyork' 27.0 48000.0]\n",
      " ['Mumbai' 30.0 52000.0]\n",
      " ['Newyork' nan 66000.0]\n",
      " ['Tokyo' 48.0 nan]\n",
      " ['Tokyo' nan 51000.0]\n",
      " ['Singapore' 33.0 69000.0]\n",
      " ['Newyork' 105.0 79000.0]\n",
      " ['Newyork' 35.0 56000.0]\n",
      " ['Tokyo' nan 50000.0]]\n"
     ]
    }
   ],
   "source": [
    "print(x)"
   ]
  },
  {
   "cell_type": "code",
   "execution_count": 8,
   "id": "b45b4b12",
   "metadata": {},
   "outputs": [],
   "source": [
    "y = dataset.iloc[:,-1].values\n",
    "# [:,-1]:\n",
    "# The -1 index for the columns indicates that you want to select the last \n",
    "# column "
   ]
  },
  {
   "cell_type": "code",
   "execution_count": 9,
   "id": "d5d21872",
   "metadata": {},
   "outputs": [
    {
     "name": "stdout",
     "output_type": "stream",
     "text": [
      "['Yes' 'Yes' 'No' 'No' 'Yes' 'No' 'No' 'Yes' 'No' 'No']\n"
     ]
    }
   ],
   "source": [
    "print(y)"
   ]
  },
  {
   "cell_type": "markdown",
   "id": "1dc5a715",
   "metadata": {},
   "source": [
    "##### handle missing values"
   ]
  },
  {
   "cell_type": "code",
   "execution_count": 10,
   "id": "99cdbc9e",
   "metadata": {},
   "outputs": [
    {
     "name": "stdout",
     "output_type": "stream",
     "text": [
      "City                  0\n",
      "Age                   3\n",
      "Salary                1\n",
      "Eligible for bonus    0\n",
      "dtype: int64\n",
      "        City    Age   Salary Eligible for bonus\n",
      "0     Mumbai    3.0  51000.0                Yes\n",
      "1    Newyork   27.0  48000.0                Yes\n",
      "2     Mumbai   30.0  52000.0                 No\n",
      "3    Newyork    NaN  66000.0                 No\n",
      "4      Tokyo   48.0      NaN                Yes\n",
      "5      Tokyo    NaN  51000.0                 No\n",
      "6  Singapore   33.0  69000.0                 No\n",
      "7    Newyork  105.0  79000.0                Yes\n",
      "8    Newyork   35.0  56000.0                 No\n",
      "9      Tokyo    NaN  50000.0                 No\n"
     ]
    }
   ],
   "source": [
    "print(dataset.isnull().sum())\n",
    "print(dataset)"
   ]
  },
  {
   "cell_type": "code",
   "execution_count": 11,
   "id": "aa5fa137",
   "metadata": {},
   "outputs": [],
   "source": [
    "# dataset.dropna(inplace=True)\n",
    "# print(dataset)\n"
   ]
  },
  {
   "cell_type": "code",
   "execution_count": 12,
   "id": "0592cb7f",
   "metadata": {},
   "outputs": [
    {
     "name": "stdout",
     "output_type": "stream",
     "text": [
      "        City    Age   Salary Eligible for bonus\n",
      "0     Mumbai    3.0  51000.0                Yes\n",
      "1    Newyork   27.0  48000.0                Yes\n",
      "2     Mumbai   30.0  52000.0                 No\n",
      "3    Newyork    NaN  66000.0                 No\n",
      "4      Tokyo   48.0      NaN                Yes\n",
      "5      Tokyo    NaN  51000.0                 No\n",
      "6  Singapore   33.0  69000.0                 No\n",
      "7    Newyork  105.0  79000.0                Yes\n",
      "8    Newyork   35.0  56000.0                 No\n",
      "9      Tokyo    NaN  50000.0                 No\n"
     ]
    }
   ],
   "source": [
    "print(dataset)"
   ]
  },
  {
   "cell_type": "code",
   "execution_count": 13,
   "id": "ed28f587",
   "metadata": {},
   "outputs": [],
   "source": [
    "# print(dataset.describe())"
   ]
  },
  {
   "cell_type": "code",
   "execution_count": 14,
   "id": "e8ec357c",
   "metadata": {},
   "outputs": [],
   "source": [
    "from sklearn.impute import SimpleImputer"
   ]
  },
  {
   "cell_type": "code",
   "execution_count": 15,
   "id": "0f43dd48",
   "metadata": {},
   "outputs": [],
   "source": [
    "imputer = SimpleImputer(missing_values=np.nan,strategy='mean')\n",
    "#imputer = SimpleImputer(missing_values=np.nan,strategy='median')\n",
    "#imputer = SimpleImputer(missing_values=np.nan,strategy='mode')\n",
    "#imputer = SimpleImputer(missing_values=np.nan,strategy='constant',fill_value=10000)"
   ]
  },
  {
   "cell_type": "code",
   "execution_count": 16,
   "id": "13b955bf",
   "metadata": {},
   "outputs": [
    {
     "data": {
      "text/html": [
       "<style>#sk-container-id-1 {color: black;background-color: white;}#sk-container-id-1 pre{padding: 0;}#sk-container-id-1 div.sk-toggleable {background-color: white;}#sk-container-id-1 label.sk-toggleable__label {cursor: pointer;display: block;width: 100%;margin-bottom: 0;padding: 0.3em;box-sizing: border-box;text-align: center;}#sk-container-id-1 label.sk-toggleable__label-arrow:before {content: \"▸\";float: left;margin-right: 0.25em;color: #696969;}#sk-container-id-1 label.sk-toggleable__label-arrow:hover:before {color: black;}#sk-container-id-1 div.sk-estimator:hover label.sk-toggleable__label-arrow:before {color: black;}#sk-container-id-1 div.sk-toggleable__content {max-height: 0;max-width: 0;overflow: hidden;text-align: left;background-color: #f0f8ff;}#sk-container-id-1 div.sk-toggleable__content pre {margin: 0.2em;color: black;border-radius: 0.25em;background-color: #f0f8ff;}#sk-container-id-1 input.sk-toggleable__control:checked~div.sk-toggleable__content {max-height: 200px;max-width: 100%;overflow: auto;}#sk-container-id-1 input.sk-toggleable__control:checked~label.sk-toggleable__label-arrow:before {content: \"▾\";}#sk-container-id-1 div.sk-estimator input.sk-toggleable__control:checked~label.sk-toggleable__label {background-color: #d4ebff;}#sk-container-id-1 div.sk-label input.sk-toggleable__control:checked~label.sk-toggleable__label {background-color: #d4ebff;}#sk-container-id-1 input.sk-hidden--visually {border: 0;clip: rect(1px 1px 1px 1px);clip: rect(1px, 1px, 1px, 1px);height: 1px;margin: -1px;overflow: hidden;padding: 0;position: absolute;width: 1px;}#sk-container-id-1 div.sk-estimator {font-family: monospace;background-color: #f0f8ff;border: 1px dotted black;border-radius: 0.25em;box-sizing: border-box;margin-bottom: 0.5em;}#sk-container-id-1 div.sk-estimator:hover {background-color: #d4ebff;}#sk-container-id-1 div.sk-parallel-item::after {content: \"\";width: 100%;border-bottom: 1px solid gray;flex-grow: 1;}#sk-container-id-1 div.sk-label:hover label.sk-toggleable__label {background-color: #d4ebff;}#sk-container-id-1 div.sk-serial::before {content: \"\";position: absolute;border-left: 1px solid gray;box-sizing: border-box;top: 0;bottom: 0;left: 50%;z-index: 0;}#sk-container-id-1 div.sk-serial {display: flex;flex-direction: column;align-items: center;background-color: white;padding-right: 0.2em;padding-left: 0.2em;position: relative;}#sk-container-id-1 div.sk-item {position: relative;z-index: 1;}#sk-container-id-1 div.sk-parallel {display: flex;align-items: stretch;justify-content: center;background-color: white;position: relative;}#sk-container-id-1 div.sk-item::before, #sk-container-id-1 div.sk-parallel-item::before {content: \"\";position: absolute;border-left: 1px solid gray;box-sizing: border-box;top: 0;bottom: 0;left: 50%;z-index: -1;}#sk-container-id-1 div.sk-parallel-item {display: flex;flex-direction: column;z-index: 1;position: relative;background-color: white;}#sk-container-id-1 div.sk-parallel-item:first-child::after {align-self: flex-end;width: 50%;}#sk-container-id-1 div.sk-parallel-item:last-child::after {align-self: flex-start;width: 50%;}#sk-container-id-1 div.sk-parallel-item:only-child::after {width: 0;}#sk-container-id-1 div.sk-dashed-wrapped {border: 1px dashed gray;margin: 0 0.4em 0.5em 0.4em;box-sizing: border-box;padding-bottom: 0.4em;background-color: white;}#sk-container-id-1 div.sk-label label {font-family: monospace;font-weight: bold;display: inline-block;line-height: 1.2em;}#sk-container-id-1 div.sk-label-container {text-align: center;}#sk-container-id-1 div.sk-container {/* jupyter's `normalize.less` sets `[hidden] { display: none; }` but bootstrap.min.css set `[hidden] { display: none !important; }` so we also need the `!important` here to be able to override the default hidden behavior on the sphinx rendered scikit-learn.org. See: https://github.com/scikit-learn/scikit-learn/issues/21755 */display: inline-block !important;position: relative;}#sk-container-id-1 div.sk-text-repr-fallback {display: none;}</style><div id=\"sk-container-id-1\" class=\"sk-top-container\"><div class=\"sk-text-repr-fallback\"><pre>SimpleImputer()</pre><b>In a Jupyter environment, please rerun this cell to show the HTML representation or trust the notebook. <br />On GitHub, the HTML representation is unable to render, please try loading this page with nbviewer.org.</b></div><div class=\"sk-container\" hidden><div class=\"sk-item\"><div class=\"sk-estimator sk-toggleable\"><input class=\"sk-toggleable__control sk-hidden--visually\" id=\"sk-estimator-id-1\" type=\"checkbox\" checked><label for=\"sk-estimator-id-1\" class=\"sk-toggleable__label sk-toggleable__label-arrow\">SimpleImputer</label><div class=\"sk-toggleable__content\"><pre>SimpleImputer()</pre></div></div></div></div></div>"
      ],
      "text/plain": [
       "SimpleImputer()"
      ]
     },
     "execution_count": 16,
     "metadata": {},
     "output_type": "execute_result"
    }
   ],
   "source": [
    "imputer.fit(x[:,1:3])\n",
    "# The code imputer.fit(x[:, 1:3]) is fitting the SimpleImputer to the data\n",
    "# in columns 1 and 2 (the columns with indices 1 and 2) of the array x. \n",
    "# This means that the imputer will calculate the statistics \n",
    "# (e.g., mean, median, or most frequent value) for these specific columns \n",
    "# in order to impute missing values in those columns later.\n",
    "\n"
   ]
  },
  {
   "cell_type": "code",
   "execution_count": 17,
   "id": "4130c4f8",
   "metadata": {},
   "outputs": [
    {
     "name": "stdout",
     "output_type": "stream",
     "text": [
      "[['Mumbai' 3.0 51000.0]\n",
      " ['Newyork' 27.0 48000.0]\n",
      " ['Mumbai' 30.0 52000.0]\n",
      " ['Newyork' 40.142857142857146 66000.0]\n",
      " ['Tokyo' 48.0 58000.0]\n",
      " ['Tokyo' 40.142857142857146 51000.0]\n",
      " ['Singapore' 33.0 69000.0]\n",
      " ['Newyork' 105.0 79000.0]\n",
      " ['Newyork' 35.0 56000.0]\n",
      " ['Tokyo' 40.142857142857146 50000.0]]\n"
     ]
    }
   ],
   "source": [
    "x[:,1:3]=imputer.transform(x[:,1:3])\n",
    "# The code x[:, 1:3] = imputer.transform(x[:, 1:3]) is using the fitted \n",
    "# SimpleImputer to transform and replace the missing values in columns 1 \n",
    "# and 2 of the array x with the imputed values.\n",
    "\n",
    "print(x)\n"
   ]
  },
  {
   "cell_type": "code",
   "execution_count": 18,
   "id": "063ead69",
   "metadata": {},
   "outputs": [],
   "source": [
    "# print(dataset.describe())"
   ]
  },
  {
   "cell_type": "code",
   "execution_count": 19,
   "id": "55cd3519",
   "metadata": {},
   "outputs": [
    {
     "name": "stdout",
     "output_type": "stream",
     "text": [
      "              Age        Salary\n",
      "count    7.000000      9.000000\n",
      "mean    40.142857  58000.000000\n",
      "std     31.625035  10770.329614\n",
      "min      3.000000  48000.000000\n",
      "25%     28.500000  51000.000000\n",
      "50%     33.000000  52000.000000\n",
      "75%     41.500000  66000.000000\n",
      "max    105.000000  79000.000000\n",
      "[[3.0 51000.0]\n",
      " [27.0 48000.0]\n",
      " [30.0 52000.0]\n",
      " [40.142857142857146 66000.0]\n",
      " [48.0 58000.0]\n",
      " [40.142857142857146 51000.0]\n",
      " [33.0 69000.0]\n",
      " [105.0 79000.0]\n",
      " [35.0 56000.0]\n",
      " [40.142857142857146 50000.0]]\n"
     ]
    }
   ],
   "source": [
    "print(dataset.describe())\n",
    "print(x[:,1:3])"
   ]
  },
  {
   "cell_type": "markdown",
   "id": "2bde3f4f",
   "metadata": {},
   "source": [
    "##### Data encoding: handle/Encode Categorical data\n",
    "# One Hot Encoding"
   ]
  },
  {
   "cell_type": "code",
   "execution_count": 20,
   "id": "7bd481b8",
   "metadata": {},
   "outputs": [],
   "source": [
    "from sklearn.compose import ColumnTransformer\n",
    "# ColumnTransformer is a class provided by scikit-learn \n",
    "# (a popular machine learning library in Python) that \n",
    "# allows you to apply different transformations to \n",
    "# different columns or subsets of columns in your dataset"
   ]
  },
  {
   "cell_type": "code",
   "execution_count": 21,
   "id": "bb81a40e",
   "metadata": {},
   "outputs": [],
   "source": [
    "from sklearn.preprocessing import OneHotEncoder"
   ]
  },
  {
   "cell_type": "code",
   "execution_count": 22,
   "id": "9562d5e0",
   "metadata": {},
   "outputs": [],
   "source": [
    "ct = ColumnTransformer(transformers=[('encoder',OneHotEncoder(),[0])],remainder=\"passthrough\")"
   ]
  },
  {
   "cell_type": "code",
   "execution_count": 23,
   "id": "087ab08b",
   "metadata": {},
   "outputs": [
    {
     "name": "stdout",
     "output_type": "stream",
     "text": [
      "ColumnTransformer(remainder='passthrough',\n",
      "                  transformers=[('encoder', OneHotEncoder(), [0])])\n"
     ]
    }
   ],
   "source": [
    "print(ct)"
   ]
  },
  {
   "cell_type": "code",
   "execution_count": 24,
   "id": "c06c85cd",
   "metadata": {},
   "outputs": [],
   "source": [
    "x = np.array(ct.fit_transform(x))"
   ]
  },
  {
   "cell_type": "code",
   "execution_count": 25,
   "id": "e90b65fe",
   "metadata": {},
   "outputs": [
    {
     "name": "stdout",
     "output_type": "stream",
     "text": [
      "[[1.0 0.0 0.0 0.0 3.0 51000.0]\n",
      " [0.0 1.0 0.0 0.0 27.0 48000.0]\n",
      " [1.0 0.0 0.0 0.0 30.0 52000.0]\n",
      " [0.0 1.0 0.0 0.0 40.142857142857146 66000.0]\n",
      " [0.0 0.0 0.0 1.0 48.0 58000.0]\n",
      " [0.0 0.0 0.0 1.0 40.142857142857146 51000.0]\n",
      " [0.0 0.0 1.0 0.0 33.0 69000.0]\n",
      " [0.0 1.0 0.0 0.0 105.0 79000.0]\n",
      " [0.0 1.0 0.0 0.0 35.0 56000.0]\n",
      " [0.0 0.0 0.0 1.0 40.142857142857146 50000.0]]\n"
     ]
    }
   ],
   "source": [
    "print (x)"
   ]
  },
  {
   "cell_type": "markdown",
   "id": "5c9831a2",
   "metadata": {},
   "source": [
    "##### Label Encoding"
   ]
  },
  {
   "cell_type": "code",
   "execution_count": 26,
   "id": "260e3690",
   "metadata": {},
   "outputs": [],
   "source": [
    "from sklearn.preprocessing import LabelEncoder                "
   ]
  },
  {
   "cell_type": "code",
   "execution_count": 27,
   "id": "8613be1c",
   "metadata": {},
   "outputs": [],
   "source": [
    "le = LabelEncoder()"
   ]
  },
  {
   "cell_type": "code",
   "execution_count": 28,
   "id": "73501f7a",
   "metadata": {},
   "outputs": [],
   "source": [
    "y= le.fit_transform(y)"
   ]
  },
  {
   "cell_type": "code",
   "execution_count": 29,
   "id": "f887775e",
   "metadata": {},
   "outputs": [
    {
     "name": "stdout",
     "output_type": "stream",
     "text": [
      "[1 1 0 0 1 0 0 1 0 0]\n"
     ]
    }
   ],
   "source": [
    "print(y)"
   ]
  },
  {
   "cell_type": "markdown",
   "id": "f8469dcd",
   "metadata": {},
   "source": [
    "##### split the dataset for training and testing"
   ]
  },
  {
   "cell_type": "code",
   "execution_count": 30,
   "id": "afec24ca",
   "metadata": {},
   "outputs": [],
   "source": [
    "from sklearn.model_selection import train_test_split\n",
    "# The train_test_split function from scikit-learn (sklearn) is a very \n",
    "# useful tool for splitting your dataset into training and testing \n",
    "# subsets. This is a common step in machine learning, where you use \n",
    "# one subset (the training set) to train your model and another subset\n",
    "# (the testing set) to evaluate its performance."
   ]
  },
  {
   "cell_type": "code",
   "execution_count": 31,
   "id": "1f90a5ee",
   "metadata": {},
   "outputs": [],
   "source": [
    "x_train,x_test,y_train,y_test = train_test_split(x,y,test_size=0.25,random_state = 1)"
   ]
  },
  {
   "cell_type": "code",
   "execution_count": 32,
   "id": "587e7e49",
   "metadata": {},
   "outputs": [
    {
     "name": "stdout",
     "output_type": "stream",
     "text": [
      "[[0.0 0.0 0.0 1.0 48.0 58000.0]\n",
      " [1.0 0.0 0.0 0.0 3.0 51000.0]\n",
      " [0.0 1.0 0.0 0.0 40.142857142857146 66000.0]\n",
      " [0.0 1.0 0.0 0.0 27.0 48000.0]\n",
      " [0.0 1.0 0.0 0.0 105.0 79000.0]\n",
      " [0.0 1.0 0.0 0.0 35.0 56000.0]\n",
      " [0.0 0.0 0.0 1.0 40.142857142857146 51000.0]]\n"
     ]
    }
   ],
   "source": [
    "print(x_train)"
   ]
  },
  {
   "cell_type": "code",
   "execution_count": 33,
   "id": "39bf1589",
   "metadata": {},
   "outputs": [
    {
     "name": "stdout",
     "output_type": "stream",
     "text": [
      "[[1.0 0.0 0.0 0.0 30.0 52000.0]\n",
      " [0.0 0.0 0.0 1.0 40.142857142857146 50000.0]\n",
      " [0.0 0.0 1.0 0.0 33.0 69000.0]]\n"
     ]
    }
   ],
   "source": [
    "print(x_test)"
   ]
  },
  {
   "cell_type": "code",
   "execution_count": 34,
   "id": "8ef3b3f2",
   "metadata": {
    "scrolled": false
   },
   "outputs": [
    {
     "name": "stdout",
     "output_type": "stream",
     "text": [
      "[1 1 0 1 1 0 0]\n"
     ]
    }
   ],
   "source": [
    "print(y_train)"
   ]
  },
  {
   "cell_type": "code",
   "execution_count": 35,
   "id": "cc9cdef2",
   "metadata": {},
   "outputs": [
    {
     "name": "stdout",
     "output_type": "stream",
     "text": [
      "[0 0 0]\n"
     ]
    }
   ],
   "source": [
    "print(y_test)"
   ]
  },
  {
   "cell_type": "markdown",
   "id": "4b948cb2",
   "metadata": {},
   "source": [
    "#### feature scaling - Standarisation & Normalization"
   ]
  },
  {
   "cell_type": "code",
   "execution_count": 2,
   "id": "49753896",
   "metadata": {},
   "outputs": [],
   "source": [
    "from sklearn.preprocessing import StandardScaler\n",
    "# Standardization is a common preprocessing technique used in machine \n",
    "# learning to scale your data in such a way that it has a mean of 0 and\n",
    "# a standard deviation of 1. This helps make the features in your dataset \n",
    "# more compatible with various machine learning algorithms.\n"
   ]
  },
  {
   "cell_type": "code",
   "execution_count": null,
   "id": "684b9710",
   "metadata": {},
   "outputs": [],
   "source": [
    "scaler =StandardScaler()"
   ]
  },
  {
   "cell_type": "code",
   "execution_count": null,
   "id": "c645b439",
   "metadata": {},
   "outputs": [],
   "source": [
    "x_train[:,4:]= scaler.fit_transform(x_train[:,4:])"
   ]
  },
  {
   "cell_type": "code",
   "execution_count": null,
   "id": "9b5c5873",
   "metadata": {},
   "outputs": [],
   "source": [
    "x_test[:,4:]= scaler.fit_transform(x_test[:,4:])"
   ]
  },
  {
   "cell_type": "code",
   "execution_count": null,
   "id": "2512fb50",
   "metadata": {},
   "outputs": [],
   "source": [
    "print(x_train)"
   ]
  },
  {
   "cell_type": "markdown",
   "id": "ef46df62",
   "metadata": {},
   "source": [
    "##### outliers"
   ]
  },
  {
   "cell_type": "code",
   "execution_count": null,
   "id": "21ad0fde",
   "metadata": {},
   "outputs": [],
   "source": [
    "print(x_test)"
   ]
  },
  {
   "cell_type": "code",
   "execution_count": null,
   "id": "334bef03",
   "metadata": {},
   "outputs": [],
   "source": [
    "import matplotlib.pyplot as plt"
   ]
  },
  {
   "cell_type": "code",
   "execution_count": null,
   "id": "70caff05",
   "metadata": {},
   "outputs": [],
   "source": [
    "%matplotlib inline"
   ]
  },
  {
   "cell_type": "code",
   "execution_count": null,
   "id": "b92c6d7e",
   "metadata": {},
   "outputs": [],
   "source": [
    "#define our dataset\n",
    "our_dataset = [11,10,12,14,12,15,14,13,15,102,12,14,12,108,12,11,14,13,15,10,15,12,10,14,13,15,10]"
   ]
  },
  {
   "cell_type": "code",
   "execution_count": null,
   "id": "2ad601c8",
   "metadata": {},
   "outputs": [],
   "source": [
    "plt.hist(our_dataset)"
   ]
  },
  {
   "cell_type": "markdown",
   "id": "a8f56338",
   "metadata": {},
   "source": [
    "##### Find and remove outliers"
   ]
  },
  {
   "cell_type": "code",
   "execution_count": null,
   "id": "17221204",
   "metadata": {},
   "outputs": [],
   "source": [
    "plt.hist(dataset['Age'],bins=15)"
   ]
  },
  {
   "cell_type": "code",
   "execution_count": null,
   "id": "90173df7",
   "metadata": {},
   "outputs": [],
   "source": [
    "# Quantile Method\n",
    "dataset"
   ]
  },
  {
   "cell_type": "code",
   "execution_count": null,
   "id": "da0998a3",
   "metadata": {},
   "outputs": [],
   "source": [
    "lowerLimit = dataset['Age'].quantile(0.05) "
   ]
  },
  {
   "cell_type": "code",
   "execution_count": null,
   "id": "d934bdd9",
   "metadata": {},
   "outputs": [],
   "source": [
    "lowerLimit"
   ]
  },
  {
   "cell_type": "code",
   "execution_count": null,
   "id": "8cb26ae2",
   "metadata": {},
   "outputs": [],
   "source": [
    "dataset [dataset['Age'] < lowerLimit]"
   ]
  },
  {
   "cell_type": "code",
   "execution_count": null,
   "id": "8330371d",
   "metadata": {},
   "outputs": [],
   "source": [
    "upperLimit = dataset['Age'].quantile(0.95)"
   ]
  },
  {
   "cell_type": "code",
   "execution_count": null,
   "id": "fc80caec",
   "metadata": {},
   "outputs": [],
   "source": [
    "upperLimit"
   ]
  },
  {
   "cell_type": "code",
   "execution_count": null,
   "id": "e6cf5860",
   "metadata": {},
   "outputs": [],
   "source": [
    "dataset [dataset['Age'] > upperLimit]"
   ]
  },
  {
   "cell_type": "code",
   "execution_count": null,
   "id": "acedaebd",
   "metadata": {},
   "outputs": [],
   "source": [
    "dataset=dataset[(dataset['Age'] > lowerLimit) & (dataset['Age'] < upperLimit)]"
   ]
  },
  {
   "cell_type": "code",
   "execution_count": null,
   "id": "fcb131c7",
   "metadata": {},
   "outputs": [],
   "source": [
    "dataset"
   ]
  },
  {
   "cell_type": "markdown",
   "id": "32575713",
   "metadata": {},
   "source": [
    "### Removing duplicate records from dataset"
   ]
  },
  {
   "cell_type": "code",
   "execution_count": 3,
   "id": "07bb4485",
   "metadata": {},
   "outputs": [
    {
     "data": {
      "text/html": [
       "<div>\n",
       "<style scoped>\n",
       "    .dataframe tbody tr th:only-of-type {\n",
       "        vertical-align: middle;\n",
       "    }\n",
       "\n",
       "    .dataframe tbody tr th {\n",
       "        vertical-align: top;\n",
       "    }\n",
       "\n",
       "    .dataframe thead th {\n",
       "        text-align: right;\n",
       "    }\n",
       "</style>\n",
       "<table border=\"1\" class=\"dataframe\">\n",
       "  <thead>\n",
       "    <tr style=\"text-align: right;\">\n",
       "      <th></th>\n",
       "      <th>City</th>\n",
       "      <th>Age</th>\n",
       "      <th>Salary</th>\n",
       "      <th>Eligible for bonus</th>\n",
       "    </tr>\n",
       "  </thead>\n",
       "  <tbody>\n",
       "    <tr>\n",
       "      <th>0</th>\n",
       "      <td>Mumbai</td>\n",
       "      <td>3.0</td>\n",
       "      <td>51000.0</td>\n",
       "      <td>Yes</td>\n",
       "    </tr>\n",
       "    <tr>\n",
       "      <th>1</th>\n",
       "      <td>Newyork</td>\n",
       "      <td>27.0</td>\n",
       "      <td>48000.0</td>\n",
       "      <td>Yes</td>\n",
       "    </tr>\n",
       "    <tr>\n",
       "      <th>2</th>\n",
       "      <td>Mumbai</td>\n",
       "      <td>30.0</td>\n",
       "      <td>52000.0</td>\n",
       "      <td>No</td>\n",
       "    </tr>\n",
       "    <tr>\n",
       "      <th>3</th>\n",
       "      <td>Newyork</td>\n",
       "      <td>NaN</td>\n",
       "      <td>66000.0</td>\n",
       "      <td>No</td>\n",
       "    </tr>\n",
       "    <tr>\n",
       "      <th>4</th>\n",
       "      <td>Tokyo</td>\n",
       "      <td>48.0</td>\n",
       "      <td>NaN</td>\n",
       "      <td>Yes</td>\n",
       "    </tr>\n",
       "    <tr>\n",
       "      <th>5</th>\n",
       "      <td>Tokyo</td>\n",
       "      <td>NaN</td>\n",
       "      <td>51000.0</td>\n",
       "      <td>No</td>\n",
       "    </tr>\n",
       "    <tr>\n",
       "      <th>6</th>\n",
       "      <td>Singapore</td>\n",
       "      <td>33.0</td>\n",
       "      <td>69000.0</td>\n",
       "      <td>No</td>\n",
       "    </tr>\n",
       "    <tr>\n",
       "      <th>7</th>\n",
       "      <td>Newyork</td>\n",
       "      <td>105.0</td>\n",
       "      <td>79000.0</td>\n",
       "      <td>Yes</td>\n",
       "    </tr>\n",
       "    <tr>\n",
       "      <th>8</th>\n",
       "      <td>Newyork</td>\n",
       "      <td>35.0</td>\n",
       "      <td>56000.0</td>\n",
       "      <td>No</td>\n",
       "    </tr>\n",
       "    <tr>\n",
       "      <th>9</th>\n",
       "      <td>Tokyo</td>\n",
       "      <td>NaN</td>\n",
       "      <td>50000.0</td>\n",
       "      <td>No</td>\n",
       "    </tr>\n",
       "  </tbody>\n",
       "</table>\n",
       "</div>"
      ],
      "text/plain": [
       "        City    Age   Salary Eligible for bonus\n",
       "0     Mumbai    3.0  51000.0                Yes\n",
       "1    Newyork   27.0  48000.0                Yes\n",
       "2     Mumbai   30.0  52000.0                 No\n",
       "3    Newyork    NaN  66000.0                 No\n",
       "4      Tokyo   48.0      NaN                Yes\n",
       "5      Tokyo    NaN  51000.0                 No\n",
       "6  Singapore   33.0  69000.0                 No\n",
       "7    Newyork  105.0  79000.0                Yes\n",
       "8    Newyork   35.0  56000.0                 No\n",
       "9      Tokyo    NaN  50000.0                 No"
      ]
     },
     "execution_count": 3,
     "metadata": {},
     "output_type": "execute_result"
    }
   ],
   "source": [
    "dataset.drop_duplicates()"
   ]
  },
  {
   "cell_type": "code",
   "execution_count": 6,
   "id": "7fd731cc",
   "metadata": {},
   "outputs": [
    {
     "data": {
      "text/html": [
       "<div>\n",
       "<style scoped>\n",
       "    .dataframe tbody tr th:only-of-type {\n",
       "        vertical-align: middle;\n",
       "    }\n",
       "\n",
       "    .dataframe tbody tr th {\n",
       "        vertical-align: top;\n",
       "    }\n",
       "\n",
       "    .dataframe thead th {\n",
       "        text-align: right;\n",
       "    }\n",
       "</style>\n",
       "<table border=\"1\" class=\"dataframe\">\n",
       "  <thead>\n",
       "    <tr style=\"text-align: right;\">\n",
       "      <th></th>\n",
       "      <th>City</th>\n",
       "      <th>Age</th>\n",
       "      <th>Salary</th>\n",
       "      <th>Eligible for bonus</th>\n",
       "    </tr>\n",
       "  </thead>\n",
       "  <tbody>\n",
       "    <tr>\n",
       "      <th>0</th>\n",
       "      <td>Mumbai</td>\n",
       "      <td>3.0</td>\n",
       "      <td>51000.0</td>\n",
       "      <td>Yes</td>\n",
       "    </tr>\n",
       "    <tr>\n",
       "      <th>1</th>\n",
       "      <td>Newyork</td>\n",
       "      <td>27.0</td>\n",
       "      <td>48000.0</td>\n",
       "      <td>Yes</td>\n",
       "    </tr>\n",
       "    <tr>\n",
       "      <th>4</th>\n",
       "      <td>Tokyo</td>\n",
       "      <td>48.0</td>\n",
       "      <td>NaN</td>\n",
       "      <td>Yes</td>\n",
       "    </tr>\n",
       "    <tr>\n",
       "      <th>6</th>\n",
       "      <td>Singapore</td>\n",
       "      <td>33.0</td>\n",
       "      <td>69000.0</td>\n",
       "      <td>No</td>\n",
       "    </tr>\n",
       "  </tbody>\n",
       "</table>\n",
       "</div>"
      ],
      "text/plain": [
       "        City   Age   Salary Eligible for bonus\n",
       "0     Mumbai   3.0  51000.0                Yes\n",
       "1    Newyork  27.0  48000.0                Yes\n",
       "4      Tokyo  48.0      NaN                Yes\n",
       "6  Singapore  33.0  69000.0                 No"
      ]
     },
     "execution_count": 6,
     "metadata": {},
     "output_type": "execute_result"
    }
   ],
   "source": [
    "dataset.drop_duplicates(subset=['City'])"
   ]
  },
  {
   "cell_type": "code",
   "execution_count": 11,
   "id": "e1c7aad9",
   "metadata": {},
   "outputs": [
    {
     "data": {
      "text/html": [
       "<div>\n",
       "<style scoped>\n",
       "    .dataframe tbody tr th:only-of-type {\n",
       "        vertical-align: middle;\n",
       "    }\n",
       "\n",
       "    .dataframe tbody tr th {\n",
       "        vertical-align: top;\n",
       "    }\n",
       "\n",
       "    .dataframe thead th {\n",
       "        text-align: right;\n",
       "    }\n",
       "</style>\n",
       "<table border=\"1\" class=\"dataframe\">\n",
       "  <thead>\n",
       "    <tr style=\"text-align: right;\">\n",
       "      <th></th>\n",
       "      <th>City</th>\n",
       "      <th>Age</th>\n",
       "      <th>Salary</th>\n",
       "      <th>Eligible for bonus</th>\n",
       "    </tr>\n",
       "  </thead>\n",
       "  <tbody>\n",
       "    <tr>\n",
       "      <th>0</th>\n",
       "      <td>Mumbai</td>\n",
       "      <td>3.0</td>\n",
       "      <td>51000.0</td>\n",
       "      <td>Yes</td>\n",
       "    </tr>\n",
       "    <tr>\n",
       "      <th>1</th>\n",
       "      <td>Newyork</td>\n",
       "      <td>27.0</td>\n",
       "      <td>48000.0</td>\n",
       "      <td>Yes</td>\n",
       "    </tr>\n",
       "    <tr>\n",
       "      <th>2</th>\n",
       "      <td>Mumbai</td>\n",
       "      <td>30.0</td>\n",
       "      <td>52000.0</td>\n",
       "      <td>No</td>\n",
       "    </tr>\n",
       "    <tr>\n",
       "      <th>3</th>\n",
       "      <td>Newyork</td>\n",
       "      <td>NaN</td>\n",
       "      <td>66000.0</td>\n",
       "      <td>No</td>\n",
       "    </tr>\n",
       "    <tr>\n",
       "      <th>4</th>\n",
       "      <td>Tokyo</td>\n",
       "      <td>48.0</td>\n",
       "      <td>NaN</td>\n",
       "      <td>Yes</td>\n",
       "    </tr>\n",
       "    <tr>\n",
       "      <th>5</th>\n",
       "      <td>Tokyo</td>\n",
       "      <td>NaN</td>\n",
       "      <td>51000.0</td>\n",
       "      <td>No</td>\n",
       "    </tr>\n",
       "    <tr>\n",
       "      <th>6</th>\n",
       "      <td>Singapore</td>\n",
       "      <td>33.0</td>\n",
       "      <td>69000.0</td>\n",
       "      <td>No</td>\n",
       "    </tr>\n",
       "  </tbody>\n",
       "</table>\n",
       "</div>"
      ],
      "text/plain": [
       "        City   Age   Salary Eligible for bonus\n",
       "0     Mumbai   3.0  51000.0                Yes\n",
       "1    Newyork  27.0  48000.0                Yes\n",
       "2     Mumbai  30.0  52000.0                 No\n",
       "3    Newyork   NaN  66000.0                 No\n",
       "4      Tokyo  48.0      NaN                Yes\n",
       "5      Tokyo   NaN  51000.0                 No\n",
       "6  Singapore  33.0  69000.0                 No"
      ]
     },
     "execution_count": 11,
     "metadata": {},
     "output_type": "execute_result"
    }
   ],
   "source": [
    "dataset.drop_duplicates(subset=['City','Eligible for bonus'])"
   ]
  },
  {
   "cell_type": "code",
   "execution_count": null,
   "id": "77858636",
   "metadata": {},
   "outputs": [],
   "source": []
  }
 ],
 "metadata": {
  "kernelspec": {
   "display_name": "Python 3 (ipykernel)",
   "language": "python",
   "name": "python3"
  },
  "language_info": {
   "codemirror_mode": {
    "name": "ipython",
    "version": 3
   },
   "file_extension": ".py",
   "mimetype": "text/x-python",
   "name": "python",
   "nbconvert_exporter": "python",
   "pygments_lexer": "ipython3",
   "version": "3.10.0"
  }
 },
 "nbformat": 4,
 "nbformat_minor": 5
}
