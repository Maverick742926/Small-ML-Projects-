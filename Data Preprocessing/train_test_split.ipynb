{
 "cells": [
  {
   "cell_type": "code",
   "execution_count": 1,
   "id": "f2765783",
   "metadata": {},
   "outputs": [
    {
     "name": "stdout",
     "output_type": "stream",
     "text": [
      "Training data (features):\n",
      "   Feature1  Feature2\n",
      "0         1        10\n",
      "7         8        80\n",
      "2         3        30\n",
      "9        10       100\n",
      "4         5        50\n",
      "3         4        40\n",
      "6         7        70\n",
      "\n",
      "Training data (labels):\n",
      "0    A\n",
      "7    B\n",
      "2    A\n",
      "9    B\n",
      "4    A\n",
      "3    B\n",
      "6    A\n",
      "Name: Label, dtype: object\n",
      "\n",
      "Testing data (features):\n",
      "   Feature1  Feature2\n",
      "8         9        90\n",
      "1         2        20\n",
      "5         6        60\n",
      "\n",
      "Testing data (labels):\n",
      "8    A\n",
      "1    B\n",
      "5    B\n",
      "Name: Label, dtype: object\n"
     ]
    }
   ],
   "source": [
    "from sklearn.model_selection import train_test_split\n",
    "import pandas as pd\n",
    "\n",
    "# Create a short dataset\n",
    "data = {\n",
    "    'Feature1': [1, 2, 3, 4, 5,6,7,8,9,10],\n",
    "    'Feature2': [10, 20, 30, 40, 50,60,70,80,90,100],\n",
    "    'Label': ['A', 'B', 'A', 'B', 'A','B','A','B','A','B']\n",
    "}\n",
    "\n",
    "df = pd.DataFrame(data)\n",
    "\n",
    "# Split the dataset into training and testing sets\n",
    "X = df[['Feature1', 'Feature2']]  # Features\n",
    "y = df['Label']  # Labels\n",
    "\n",
    "X_train, X_test, y_train, y_test = train_test_split(X, y, test_size=0.25, random_state=42)\n",
    "\n",
    "# Print the training and testing sets\n",
    "print(\"Training data (features):\")\n",
    "print(X_train)\n",
    "print(\"\\nTraining data (labels):\")\n",
    "print(y_train)\n",
    "print(\"\\nTesting data (features):\")\n",
    "print(X_test)\n",
    "print(\"\\nTesting data (labels):\")\n",
    "print(y_test)\n"
   ]
  },
  {
   "cell_type": "code",
   "execution_count": null,
   "id": "d52295e7",
   "metadata": {},
   "outputs": [],
   "source": []
  }
 ],
 "metadata": {
  "kernelspec": {
   "display_name": "Python 3 (ipykernel)",
   "language": "python",
   "name": "python3"
  },
  "language_info": {
   "codemirror_mode": {
    "name": "ipython",
    "version": 3
   },
   "file_extension": ".py",
   "mimetype": "text/x-python",
   "name": "python",
   "nbconvert_exporter": "python",
   "pygments_lexer": "ipython3",
   "version": "3.10.0"
  }
 },
 "nbformat": 4,
 "nbformat_minor": 5
}
