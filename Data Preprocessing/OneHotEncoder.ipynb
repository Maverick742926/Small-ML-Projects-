{
 "cells": [
  {
   "cell_type": "code",
   "execution_count": 10,
   "id": "a99c368e",
   "metadata": {},
   "outputs": [
    {
     "name": "stdout",
     "output_type": "stream",
     "text": [
      "[['Red'], ['Blue'], ['Green']]   (0, 2)\t1.0\n",
      "  (1, 0)\t1.0\n",
      "  (2, 1)\t1.0\n"
     ]
    }
   ],
   "source": [
    "from sklearn.preprocessing import OneHotEncoder\n",
    "\n",
    "# Create an instance of the OneHotEncoder\n",
    "encoder = OneHotEncoder()\n",
    "\n",
    "# Fit the encoder to the categorical data and transform it\n",
    "categorical_data = [['Red'], ['Blue'], ['Green']]\n",
    "encoded_data = encoder.fit_transform(categorical_data)\n",
    "\n",
    "# The encoded_data will look like this:\n",
    "# | 0 | 1 | 2 |\n",
    "# |---|---|---|\n",
    "# | 1 | 0 | 0 |\n",
    "# | 0 | 1 | 0 |\n",
    "# | 0 | 0 | 1 |\n",
    "\n",
    "print(categorical_data,encoded_data)"
   ]
  },
  {
   "cell_type": "code",
   "execution_count": null,
   "id": "8759f793",
   "metadata": {},
   "outputs": [],
   "source": []
  }
 ],
 "metadata": {
  "kernelspec": {
   "display_name": "Python 3 (ipykernel)",
   "language": "python",
   "name": "python3"
  },
  "language_info": {
   "codemirror_mode": {
    "name": "ipython",
    "version": 3
   },
   "file_extension": ".py",
   "mimetype": "text/x-python",
   "name": "python",
   "nbconvert_exporter": "python",
   "pygments_lexer": "ipython3",
   "version": "3.10.0"
  }
 },
 "nbformat": 4,
 "nbformat_minor": 5
}
