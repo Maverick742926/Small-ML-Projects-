{
 "cells": [
  {
   "cell_type": "code",
   "execution_count": null,
   "id": "7b9a1e66",
   "metadata": {},
   "outputs": [],
   "source": [
    "from sklearn.preprocessing import LabelEncoder\n",
    "\n",
    "# Create an instance of the LabelEncoder\n",
    "encoder = LabelEncoder()\n",
    "\n",
    "# Fit the encoder to the categorical labels and transform them\n",
    "categorical_labels = ['Low', 'Medium', 'High']\n",
    "encoded_labels = encoder.fit_transform(categorical_labels)\n",
    "\n",
    "# The encoded_labels will look like this: [0, 1, 2]\n",
    "print(categorical_labels,encoded_labels)"
   ]
  },
  {
   "cell_type": "code",
   "execution_count": null,
   "id": "e32cde0d",
   "metadata": {},
   "outputs": [],
   "source": []
  }
 ],
 "metadata": {
  "kernelspec": {
   "display_name": "Python 3 (ipykernel)",
   "language": "python",
   "name": "python3"
  },
  "language_info": {
   "codemirror_mode": {
    "name": "ipython",
    "version": 3
   },
   "file_extension": ".py",
   "mimetype": "text/x-python",
   "name": "python",
   "nbconvert_exporter": "python",
   "pygments_lexer": "ipython3",
   "version": "3.10.0"
  }
 },
 "nbformat": 4,
 "nbformat_minor": 5
}
