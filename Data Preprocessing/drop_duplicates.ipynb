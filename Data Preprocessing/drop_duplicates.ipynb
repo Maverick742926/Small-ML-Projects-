{
 "cells": [
  {
   "cell_type": "code",
   "execution_count": null,
   "id": "a93d04f8",
   "metadata": {},
   "outputs": [],
   "source": [
    "import pandas as pd\n",
    "\n",
    "# Create a sample DataFrame\n",
    "data = {'City': ['New York', 'Los Angeles', 'Chicago', 'New York', 'Boston', 'Chicago']}\n",
    "df = pd.DataFrame(data)\n",
    "\n",
    "# Use drop_duplicates to remove duplicate rows based on the 'City' column\n",
    "df = df.drop_duplicates(subset=['City'])\n",
    "\n",
    "# Display the resulting DataFrame\n",
    "print(df)\n"
   ]
  },
  {
   "cell_type": "code",
   "execution_count": null,
   "id": "0ca06bb9",
   "metadata": {},
   "outputs": [],
   "source": []
  }
 ],
 "metadata": {
  "kernelspec": {
   "display_name": "Python 3 (ipykernel)",
   "language": "python",
   "name": "python3"
  },
  "language_info": {
   "codemirror_mode": {
    "name": "ipython",
    "version": 3
   },
   "file_extension": ".py",
   "mimetype": "text/x-python",
   "name": "python",
   "nbconvert_exporter": "python",
   "pygments_lexer": "ipython3",
   "version": "3.10.0"
  }
 },
 "nbformat": 4,
 "nbformat_minor": 5
}
