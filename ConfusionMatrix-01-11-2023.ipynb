{
 "cells": [
  {
   "cell_type": "code",
   "execution_count": null,
   "id": "2209ce3c",
   "metadata": {},
   "outputs": [],
   "source": [
    "import numpy as np\n",
    "import pandas as pd\n",
    "from sklearn.linear_model import LogisticRegression\n",
    "from sklearn.model_selection import train_test_split\n",
    "from sklearn.metrics import accuracy_score, confusion_matrix\n",
    "import matplotlib.pyplot as plt\n",
    "import seaborn as sns\n",
    "\n",
    "# Load the dataset from a CSV file\n",
    "dataset = pd.read_csv('C:\\\\Users\\\\Shardha Nand\\\\Desktop\\\\MyEmployData.csv')\n",
    "\n",
    "# Split the dataset into features (x) and target labels (y)\n",
    "x = dataset.iloc[:,:-1].values  # Indepent Variables or Features\n",
    "y = dataset.iloc[:, -1].values  # Depedent variable or Target labels\n",
    "\n",
    "# Split the data into a training set and a test set\n",
    "x_train, x_test, y_train, y_test = train_test_split(x, y, test_size=0.25, random_state=1)\n",
    "\n",
    "# Print the test data for examination\n",
    "print(\"x_test\", x_test)\n",
    "print(\"y_test\", y_test)\n",
    "\n",
    "# Create a logistic regression model and train it\n",
    "lr = LogisticRegression()\n",
    "lr.fit(x_train, y_train)\n",
    "\n",
    "# Make predictions on the test data\n",
    "y_pred = lr.predict(x_test)\n",
    "\n",
    "# Print the predicted labels for the test data\n",
    "print(\"Predicted labels (y_pred) for x_test:\", y_pred)\n",
    "\n",
    "# Calculate the accuracy of the logistic regression model\n",
    "accuracy = accuracy_score(y_test, y_pred)\n",
    "print(\"Accuracy of logistic regression:\", accuracy)\n",
    "\n",
    "# Create a confusion matrix and visualize it using a heatmap\n",
    "cm = confusion_matrix(y_test, y_pred)\n",
    "\n",
    "# Plot the confusion matrix as a heatmap\n",
    "sns.heatmap(cm, annot=True, fmt=\"d\", cmap=\"Blues\", cbar=False, xticklabels=['Negative', 'Positive'], yticklabels=['Negative', 'Positive'])\n",
    "plt.xlabel('Predicted')\n",
    "plt.ylabel('Actual')\n",
    "plt.title('Confusion Matrix')\n",
    "plt.show()\n"
   ]
  },
  {
   "cell_type": "code",
   "execution_count": null,
   "id": "ce730617",
   "metadata": {},
   "outputs": [],
   "source": []
  }
 ],
 "metadata": {
  "kernelspec": {
   "display_name": "Python 3 (ipykernel)",
   "language": "python",
   "name": "python3"
  },
  "language_info": {
   "codemirror_mode": {
    "name": "ipython",
    "version": 3
   },
   "file_extension": ".py",
   "mimetype": "text/x-python",
   "name": "python",
   "nbconvert_exporter": "python",
   "pygments_lexer": "ipython3",
   "version": "3.10.0"
  }
 },
 "nbformat": 4,
 "nbformat_minor": 5
}
