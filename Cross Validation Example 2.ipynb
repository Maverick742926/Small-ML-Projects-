{
 "cells": [
  {
   "cell_type": "code",
   "execution_count": null,
   "id": "4978e2d7",
   "metadata": {},
   "outputs": [],
   "source": [
    "import numpy as np\n",
    "from sklearn.model_selection import cross_val_score, KFold, StratifiedKFold, LeaveOneOut, ShuffleSplit\n",
    "from sklearn.ensemble import RandomForestClassifier\n",
    "from sklearn.tree import DecisionTreeClassifier\n",
    "from sklearn.neighbors import KNeighborsClassifier\n",
    "from sklearn.datasets import make_classification\n",
    "\n",
    "# Generate a hypothetical dataset\n",
    "X, y = make_classification(n_samples=1000, n_features=10, n_classes=2, random_state=42)\n",
    "\n",
    "# Define models\n",
    "models = {\n",
    "    'Random Forest': RandomForestClassifier(n_estimators=100, random_state=42),\n",
    "    'Decision Tree': DecisionTreeClassifier(random_state=42),\n",
    "    'KNN': KNeighborsClassifier(n_neighbors=5)\n",
    "}\n",
    "\n",
    "# Choose the number of folds for cross-validation\n",
    "num_folds = 5\n",
    "\n",
    "# Create cross-validation objects for different techniques\n",
    "kf = KFold(n_splits=num_folds, shuffle=True, random_state=42)\n",
    "stratified_kf = StratifiedKFold(n_splits=num_folds, shuffle=True, random_state=42)\n",
    "loo = LeaveOneOut()\n",
    "shuffle_split = ShuffleSplit(n_splits=num_folds, test_size=0.2, random_state=42)\n",
    "\n",
    "# List of cross-validation techniques\n",
    "cv_techniques = {'KFold': kf, 'StratifiedKFold': stratified_kf, 'LeaveOneOut': loo, 'ShuffleSplit': shuffle_split}\n",
    "\n",
    "# Perform cross-validation for each model and technique\n",
    "for model_name, model in models.items():\n",
    "    print(f\"\\nModel: {model_name}\\n\")\n",
    "    for cv_name, cv_method in cv_techniques.items():\n",
    "        cv_scores = cross_val_score(model, X, y, cv=cv_method, scoring='accuracy')\n",
    "        \n",
    "        # Print the cross-validation scores for each fold\n",
    "        print(f\"{cv_name} Cross-validation scores:\", cv_scores)\n",
    "        \n",
    "        # Print the mean and standard deviation of the cross-validation scores\n",
    "        print(f\"Mean {cv_name} CV Score:\", np.mean(cv_scores))\n",
    "        print(f\"Standard Deviation of {cv_name} CV Scores:\", np.std(cv_scores))\n",
    "        print(\"\\n\")\n"
   ]
  },
  {
   "cell_type": "code",
   "execution_count": null,
   "id": "7911af0a",
   "metadata": {},
   "outputs": [],
   "source": []
  }
 ],
 "metadata": {
  "kernelspec": {
   "display_name": "Python 3 (ipykernel)",
   "language": "python",
   "name": "python3"
  },
  "language_info": {
   "codemirror_mode": {
    "name": "ipython",
    "version": 3
   },
   "file_extension": ".py",
   "mimetype": "text/x-python",
   "name": "python",
   "nbconvert_exporter": "python",
   "pygments_lexer": "ipython3",
   "version": "3.10.0"
  }
 },
 "nbformat": 4,
 "nbformat_minor": 5
}
