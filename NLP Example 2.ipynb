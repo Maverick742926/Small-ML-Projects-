{
 "cells": [
  {
   "cell_type": "code",
   "execution_count": 1,
   "id": "db1d30fa",
   "metadata": {},
   "outputs": [
    {
     "name": "stdout",
     "output_type": "stream",
     "text": [
      "run\n"
     ]
    }
   ],
   "source": [
    "from nltk.stem import PorterStemmer\n",
    "\n",
    "porter = PorterStemmer()\n",
    "word = \"running\"\n",
    "stemmed_word = porter.stem(word)\n",
    "print(stemmed_word)  # Output: run\n"
   ]
  },
  {
   "cell_type": "code",
   "execution_count": 2,
   "id": "656eafcb",
   "metadata": {},
   "outputs": [
    {
     "name": "stdout",
     "output_type": "stream",
     "text": [
      "run\n"
     ]
    }
   ],
   "source": [
    "from nltk.stem import LancasterStemmer\n",
    "\n",
    "lancaster = LancasterStemmer()\n",
    "word = \"running\"\n",
    "stemmed_word = lancaster.stem(word)\n",
    "print(stemmed_word)  # Output: run\n"
   ]
  },
  {
   "cell_type": "code",
   "execution_count": 4,
   "id": "a280cbaf",
   "metadata": {},
   "outputs": [
    {
     "name": "stdout",
     "output_type": "stream",
     "text": [
      "giving:giv\n",
      "given:giv\n",
      "gives:giv\n",
      "gave:gav\n"
     ]
    }
   ],
   "source": [
    "from nltk.stem import LancasterStemmer\n",
    "lst = LancasterStemmer()\n",
    "stm = [\"giving\",\"given\",\"gives\",\"gave\"]\n",
    "for word in stm:\n",
    "    print(word+\":\"+lst.stem(word))"
   ]
  },
  {
   "cell_type": "code",
   "execution_count": 3,
   "id": "72ff33ad",
   "metadata": {},
   "outputs": [
    {
     "name": "stdout",
     "output_type": "stream",
     "text": [
      "run\n"
     ]
    }
   ],
   "source": [
    "from nltk.stem import WordNetLemmatizer\n",
    "from nltk.tokenize import word_tokenize\n",
    "\n",
    "lemmatizer = WordNetLemmatizer()\n",
    "word = \"running\"\n",
    "lemma = lemmatizer.lemmatize(word, pos='v')  # 'v' indicates verb\n",
    "print(lemma)  # Output: run\n"
   ]
  },
  {
   "cell_type": "code",
   "execution_count": 8,
   "id": "68922548",
   "metadata": {},
   "outputs": [
    {
     "name": "stdout",
     "output_type": "stream",
     "text": [
      "playing play playing\n",
      "happiness happi happiness\n",
      "going go going\n",
      "go go go\n",
      "doing do doing\n",
      "do do do\n"
     ]
    },
    {
     "name": "stderr",
     "output_type": "stream",
     "text": [
      "[nltk_data] Downloading package wordnet to C:\\Users\\Shardha\n",
      "[nltk_data]     Nand\\AppData\\Roaming\\nltk_data...\n",
      "[nltk_data]   Package wordnet is already up-to-date!\n"
     ]
    }
   ],
   "source": [
    "import nltk\n",
    "nltk.download('wordnet')\n",
    "from nltk.stem import PorterStemmer,WordNetLemmatizer\n",
    "demowords = [\"playing\",\"happiness\",\"going\",\"go\",\"doing\",\"do\"]\n",
    "lemmatizer = WordNetLemmatizer()\n",
    "stemmer = PorterStemmer()\n",
    "\n",
    "for word in demowords:\n",
    "    print(word,stemmer.stem(word),lemmatizer.lemmatize(word))\n",
    "    \n",
    "    \n"
   ]
  },
  {
   "cell_type": "code",
   "execution_count": 15,
   "id": "4ae23d38",
   "metadata": {},
   "outputs": [
    {
     "name": "stdout",
     "output_type": "stream",
     "text": [
      "{'neg': 0.0, 'neu': 0.377, 'pos': 0.623, 'compound': 0.5106}\n",
      "{'neg': 0.177, 'neu': 0.667, 'pos': 0.157, 'compound': -0.0772}\n"
     ]
    },
    {
     "name": "stderr",
     "output_type": "stream",
     "text": [
      "[nltk_data] Downloading package vader_lexicon to C:\\Users\\Shardha\n",
      "[nltk_data]     Nand\\AppData\\Roaming\\nltk_data...\n",
      "[nltk_data]   Package vader_lexicon is already up-to-date!\n"
     ]
    }
   ],
   "source": [
    "import nltk\n",
    "from nltk.sentiment import SentimentIntensityAnalyzer\n",
    "\n",
    "# Download the VADER lexicon for sentiment analysis\n",
    "nltk.download('vader_lexicon')\n",
    "\n",
    "# Create a SentimentIntensityAnalyzer instance\n",
    "sia = SentimentIntensityAnalyzer()\n",
    "\n",
    "# Analyze the sentiment of the first sentence\n",
    "print(sia.polarity_scores(\"Programming is fun\"))\n",
    "\n",
    "# Analyze the sentiment of the second sentence\n",
    "print(sia.polarity_scores(\"Product is excellent but price is high and service quality is low\"))\n"
   ]
  },
  {
   "cell_type": "code",
   "execution_count": 1,
   "id": "5aaf2934",
   "metadata": {},
   "outputs": [
    {
     "name": "stdout",
     "output_type": "stream",
     "text": [
      "{'neg': 0.0, 'neu': 0.417, 'pos': 0.583, 'compound': 0.7901}\n"
     ]
    }
   ],
   "source": [
    "from nltk.sentiment import SentimentIntensityAnalyzer\n",
    "\n",
    "# Create a SentimentIntensityAnalyzer object\n",
    "sia = SentimentIntensityAnalyzer()\n",
    "\n",
    "# Analyze sentiment for a piece of text\n",
    "text = \"I love using Python for natural language processing!\"\n",
    "sentiment_scores = sia.polarity_scores(text)\n",
    "\n",
    "# Print the sentiment scores\n",
    "print(sentiment_scores)\n"
   ]
  },
  {
   "cell_type": "code",
   "execution_count": 2,
   "id": "4bb551b2",
   "metadata": {},
   "outputs": [
    {
     "name": "stdout",
     "output_type": "stream",
     "text": [
      "Positive Compound Score: 0.8439\n",
      "Negative Compound Score: -0.8074\n"
     ]
    }
   ],
   "source": [
    "from nltk.sentiment import SentimentIntensityAnalyzer\n",
    "\n",
    "sia = SentimentIntensityAnalyzer()\n",
    "\n",
    "text_positive = \"I love this product! It's fantastic.\"\n",
    "text_negative = \"This movie was terrible. I hated it.\"\n",
    "\n",
    "# Analyze sentiment for positive text\n",
    "scores_positive = sia.polarity_scores(text_positive)\n",
    "compound_score_positive = scores_positive['compound']\n",
    "print(f\"Positive Compound Score: {compound_score_positive}\")\n",
    "\n",
    "# Analyze sentiment for negative text\n",
    "scores_negative = sia.polarity_scores(text_negative)\n",
    "compound_score_negative = scores_negative['compound']\n",
    "print(f\"Negative Compound Score: {compound_score_negative}\")\n"
   ]
  },
  {
   "cell_type": "code",
   "execution_count": null,
   "id": "3ff4f118",
   "metadata": {},
   "outputs": [],
   "source": []
  }
 ],
 "metadata": {
  "kernelspec": {
   "display_name": "Python 3 (ipykernel)",
   "language": "python",
   "name": "python3"
  },
  "language_info": {
   "codemirror_mode": {
    "name": "ipython",
    "version": 3
   },
   "file_extension": ".py",
   "mimetype": "text/x-python",
   "name": "python",
   "nbconvert_exporter": "python",
   "pygments_lexer": "ipython3",
   "version": "3.10.0"
  }
 },
 "nbformat": 4,
 "nbformat_minor": 5
}
